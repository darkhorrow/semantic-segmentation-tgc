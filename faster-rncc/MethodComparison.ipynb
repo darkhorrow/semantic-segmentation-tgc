{
  "nbformat": 4,
  "nbformat_minor": 0,
  "metadata": {
    "colab": {
      "name": "MethodComparison.ipynb",
      "provenance": [],
      "collapsed_sections": []
    },
    "kernelspec": {
      "name": "python3",
      "display_name": "Python 3"
    },
    "language_info": {
      "name": "python"
    }
  },
  "cells": [
    {
      "cell_type": "markdown",
      "metadata": {
        "id": "ZJlUxtE_0fka"
      },
      "source": [
        "# Method comparison\n",
        "\n",
        "Comparison between the detections in the original images and the processed by Deeplav3 + OpenCV post-processing"
      ]
    },
    {
      "cell_type": "markdown",
      "metadata": {
        "id": "Ytc5ljCl4mUz"
      },
      "source": [
        "## Path definitions"
      ]
    },
    {
      "cell_type": "code",
      "metadata": {
        "colab": {
          "base_uri": "https://localhost:8080/"
        },
        "id": "ZHIpOJaq0Igb",
        "outputId": "7d1fe592-0dd5-4916-e313-e5ad63b5cb88"
      },
      "source": [
        "from google.colab import drive\n",
        "drive.mount('/content/drive')"
      ],
      "execution_count": 1,
      "outputs": [
        {
          "output_type": "stream",
          "text": [
            "Mounted at /content/drive\n"
          ],
          "name": "stdout"
        }
      ]
    },
    {
      "cell_type": "code",
      "metadata": {
        "id": "2AM9v7qJ00PE"
      },
      "source": [
        "ORIGINAL_RESULTS = \"/content/drive/MyDrive/TFM/comparison_files/original_predictions.csv\"\n",
        "CROP_RESULTS = \"/content/drive/MyDrive/TFM/comparison_files/crop90_predictions.csv\"\n",
        "CROP_MAP = \"/content/drive/MyDrive/TFM/comparison_files/final_map_resutls.txt\""
      ],
      "execution_count": 3,
      "outputs": []
    },
    {
      "cell_type": "markdown",
      "metadata": {
        "id": "tYd95vdfZB5c"
      },
      "source": [
        "## Read predictions\n"
      ]
    },
    {
      "cell_type": "code",
      "metadata": {
        "id": "K1p3nCj_e6dd"
      },
      "source": [
        "import pandas as pd"
      ],
      "execution_count": 10,
      "outputs": []
    },
    {
      "cell_type": "code",
      "metadata": {
        "id": "NauQTvOBoNiU"
      },
      "source": [
        "original_df = pd.read_csv(ORIGINAL_RESULTS)\n",
        "crop_df = pd.read_csv(CROP_RESULTS)"
      ],
      "execution_count": 11,
      "outputs": []
    },
    {
      "cell_type": "code",
      "metadata": {
        "colab": {
          "base_uri": "https://localhost:8080/",
          "height": 300
        },
        "id": "jow12VdCfFj5",
        "outputId": "b2abaa15-d0fe-49a5-fa84-603de2b71c66"
      },
      "source": [
        "original_df.describe()"
      ],
      "execution_count": 15,
      "outputs": [
        {
          "output_type": "execute_result",
          "data": {
            "text/html": [
              "<div>\n",
              "<style scoped>\n",
              "    .dataframe tbody tr th:only-of-type {\n",
              "        vertical-align: middle;\n",
              "    }\n",
              "\n",
              "    .dataframe tbody tr th {\n",
              "        vertical-align: top;\n",
              "    }\n",
              "\n",
              "    .dataframe thead th {\n",
              "        text-align: right;\n",
              "    }\n",
              "</style>\n",
              "<table border=\"1\" class=\"dataframe\">\n",
              "  <thead>\n",
              "    <tr style=\"text-align: right;\">\n",
              "      <th></th>\n",
              "      <th>Unnamed: 0</th>\n",
              "      <th>x_min</th>\n",
              "      <th>y_min</th>\n",
              "      <th>x_max</th>\n",
              "      <th>y_max</th>\n",
              "      <th>score</th>\n",
              "    </tr>\n",
              "  </thead>\n",
              "  <tbody>\n",
              "    <tr>\n",
              "      <th>count</th>\n",
              "      <td>4242.00000</td>\n",
              "      <td>4242.000000</td>\n",
              "      <td>4242.000000</td>\n",
              "      <td>4242.000000</td>\n",
              "      <td>4242.000000</td>\n",
              "      <td>4242.000000</td>\n",
              "    </tr>\n",
              "    <tr>\n",
              "      <th>mean</th>\n",
              "      <td>2120.50000</td>\n",
              "      <td>1136.297973</td>\n",
              "      <td>490.855257</td>\n",
              "      <td>1183.128713</td>\n",
              "      <td>524.126355</td>\n",
              "      <td>88.267327</td>\n",
              "    </tr>\n",
              "    <tr>\n",
              "      <th>std</th>\n",
              "      <td>1224.70425</td>\n",
              "      <td>418.996303</td>\n",
              "      <td>197.567233</td>\n",
              "      <td>418.949399</td>\n",
              "      <td>202.058370</td>\n",
              "      <td>9.116745</td>\n",
              "    </tr>\n",
              "    <tr>\n",
              "      <th>min</th>\n",
              "      <td>0.00000</td>\n",
              "      <td>0.000000</td>\n",
              "      <td>0.000000</td>\n",
              "      <td>16.000000</td>\n",
              "      <td>16.000000</td>\n",
              "      <td>70.000000</td>\n",
              "    </tr>\n",
              "    <tr>\n",
              "      <th>25%</th>\n",
              "      <td>1060.25000</td>\n",
              "      <td>848.000000</td>\n",
              "      <td>352.000000</td>\n",
              "      <td>896.000000</td>\n",
              "      <td>384.000000</td>\n",
              "      <td>81.000000</td>\n",
              "    </tr>\n",
              "    <tr>\n",
              "      <th>50%</th>\n",
              "      <td>2120.50000</td>\n",
              "      <td>1184.000000</td>\n",
              "      <td>464.000000</td>\n",
              "      <td>1232.000000</td>\n",
              "      <td>496.000000</td>\n",
              "      <td>91.000000</td>\n",
              "    </tr>\n",
              "    <tr>\n",
              "      <th>75%</th>\n",
              "      <td>3180.75000</td>\n",
              "      <td>1440.000000</td>\n",
              "      <td>592.000000</td>\n",
              "      <td>1500.000000</td>\n",
              "      <td>624.000000</td>\n",
              "      <td>97.000000</td>\n",
              "    </tr>\n",
              "    <tr>\n",
              "      <th>max</th>\n",
              "      <td>4241.00000</td>\n",
              "      <td>1888.000000</td>\n",
              "      <td>1040.000000</td>\n",
              "      <td>1920.000000</td>\n",
              "      <td>1072.000000</td>\n",
              "      <td>99.000000</td>\n",
              "    </tr>\n",
              "  </tbody>\n",
              "</table>\n",
              "</div>"
            ],
            "text/plain": [
              "       Unnamed: 0        x_min  ...        y_max        score\n",
              "count  4242.00000  4242.000000  ...  4242.000000  4242.000000\n",
              "mean   2120.50000  1136.297973  ...   524.126355    88.267327\n",
              "std    1224.70425   418.996303  ...   202.058370     9.116745\n",
              "min       0.00000     0.000000  ...    16.000000    70.000000\n",
              "25%    1060.25000   848.000000  ...   384.000000    81.000000\n",
              "50%    2120.50000  1184.000000  ...   496.000000    91.000000\n",
              "75%    3180.75000  1440.000000  ...   624.000000    97.000000\n",
              "max    4241.00000  1888.000000  ...  1072.000000    99.000000\n",
              "\n",
              "[8 rows x 6 columns]"
            ]
          },
          "metadata": {
            "tags": []
          },
          "execution_count": 15
        }
      ]
    },
    {
      "cell_type": "code",
      "metadata": {
        "colab": {
          "base_uri": "https://localhost:8080/",
          "height": 300
        },
        "id": "gW4u7VyyfHRZ",
        "outputId": "b4d34567-295d-43e8-cfc6-06d6edaceff3"
      },
      "source": [
        "crop_df.describe()"
      ],
      "execution_count": 14,
      "outputs": [
        {
          "output_type": "execute_result",
          "data": {
            "text/html": [
              "<div>\n",
              "<style scoped>\n",
              "    .dataframe tbody tr th:only-of-type {\n",
              "        vertical-align: middle;\n",
              "    }\n",
              "\n",
              "    .dataframe tbody tr th {\n",
              "        vertical-align: top;\n",
              "    }\n",
              "\n",
              "    .dataframe thead th {\n",
              "        text-align: right;\n",
              "    }\n",
              "</style>\n",
              "<table border=\"1\" class=\"dataframe\">\n",
              "  <thead>\n",
              "    <tr style=\"text-align: right;\">\n",
              "      <th></th>\n",
              "      <th>Unnamed: 0</th>\n",
              "      <th>x_min</th>\n",
              "      <th>y_min</th>\n",
              "      <th>x_max</th>\n",
              "      <th>y_max</th>\n",
              "      <th>score</th>\n",
              "    </tr>\n",
              "  </thead>\n",
              "  <tbody>\n",
              "    <tr>\n",
              "      <th>count</th>\n",
              "      <td>1982.000000</td>\n",
              "      <td>1982.000000</td>\n",
              "      <td>1982.000000</td>\n",
              "      <td>1982.000000</td>\n",
              "      <td>1982.000000</td>\n",
              "      <td>1982.000000</td>\n",
              "    </tr>\n",
              "    <tr>\n",
              "      <th>mean</th>\n",
              "      <td>990.500000</td>\n",
              "      <td>69.336024</td>\n",
              "      <td>203.632694</td>\n",
              "      <td>136.984864</td>\n",
              "      <td>259.196771</td>\n",
              "      <td>95.484864</td>\n",
              "    </tr>\n",
              "    <tr>\n",
              "      <th>std</th>\n",
              "      <td>572.298436</td>\n",
              "      <td>57.132338</td>\n",
              "      <td>123.750422</td>\n",
              "      <td>67.416138</td>\n",
              "      <td>131.833008</td>\n",
              "      <td>6.730443</td>\n",
              "    </tr>\n",
              "    <tr>\n",
              "      <th>min</th>\n",
              "      <td>0.000000</td>\n",
              "      <td>-16.000000</td>\n",
              "      <td>0.000000</td>\n",
              "      <td>16.000000</td>\n",
              "      <td>16.000000</td>\n",
              "      <td>70.000000</td>\n",
              "    </tr>\n",
              "    <tr>\n",
              "      <th>25%</th>\n",
              "      <td>495.250000</td>\n",
              "      <td>32.000000</td>\n",
              "      <td>128.000000</td>\n",
              "      <td>96.000000</td>\n",
              "      <td>176.000000</td>\n",
              "      <td>96.000000</td>\n",
              "    </tr>\n",
              "    <tr>\n",
              "      <th>50%</th>\n",
              "      <td>990.500000</td>\n",
              "      <td>48.000000</td>\n",
              "      <td>176.000000</td>\n",
              "      <td>128.000000</td>\n",
              "      <td>224.000000</td>\n",
              "      <td>99.000000</td>\n",
              "    </tr>\n",
              "    <tr>\n",
              "      <th>75%</th>\n",
              "      <td>1485.750000</td>\n",
              "      <td>96.000000</td>\n",
              "      <td>240.000000</td>\n",
              "      <td>176.000000</td>\n",
              "      <td>304.000000</td>\n",
              "      <td>99.000000</td>\n",
              "    </tr>\n",
              "    <tr>\n",
              "      <th>max</th>\n",
              "      <td>1981.000000</td>\n",
              "      <td>416.000000</td>\n",
              "      <td>880.000000</td>\n",
              "      <td>448.000000</td>\n",
              "      <td>912.000000</td>\n",
              "      <td>99.000000</td>\n",
              "    </tr>\n",
              "  </tbody>\n",
              "</table>\n",
              "</div>"
            ],
            "text/plain": [
              "        Unnamed: 0        x_min  ...        y_max        score\n",
              "count  1982.000000  1982.000000  ...  1982.000000  1982.000000\n",
              "mean    990.500000    69.336024  ...   259.196771    95.484864\n",
              "std     572.298436    57.132338  ...   131.833008     6.730443\n",
              "min       0.000000   -16.000000  ...    16.000000    70.000000\n",
              "25%     495.250000    32.000000  ...   176.000000    96.000000\n",
              "50%     990.500000    48.000000  ...   224.000000    99.000000\n",
              "75%    1485.750000    96.000000  ...   304.000000    99.000000\n",
              "max    1981.000000   416.000000  ...   912.000000    99.000000\n",
              "\n",
              "[8 rows x 6 columns]"
            ]
          },
          "metadata": {
            "tags": []
          },
          "execution_count": 14
        }
      ]
    },
    {
      "cell_type": "code",
      "metadata": {
        "id": "Yfs08DasfIKg"
      },
      "source": [
        ""
      ],
      "execution_count": null,
      "outputs": []
    }
  ]
}