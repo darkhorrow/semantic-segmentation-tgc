{
  "nbformat": 4,
  "nbformat_minor": 0,
  "metadata": {
    "colab": {
      "name": "MethodComparison.ipynb",
      "provenance": [],
      "collapsed_sections": []
    },
    "kernelspec": {
      "name": "python3",
      "display_name": "Python 3"
    },
    "language_info": {
      "name": "python"
    }
  },
  "cells": [
    {
      "cell_type": "markdown",
      "metadata": {
        "id": "ZJlUxtE_0fka"
      },
      "source": [
        "# Method comparison\n",
        "\n",
        "Comparison between the detections in the original images and the processed by Deeplav3 + OpenCV post-processing"
      ]
    },
    {
      "cell_type": "markdown",
      "metadata": {
        "id": "Ytc5ljCl4mUz"
      },
      "source": [
        "## Path definitions"
      ]
    },
    {
      "cell_type": "code",
      "metadata": {
        "colab": {
          "base_uri": "https://localhost:8080/"
        },
        "id": "ZHIpOJaq0Igb",
        "outputId": "ea7c1e4d-cee8-4625-c2eb-ce31e71997a9"
      },
      "source": [
        "from google.colab import drive\n",
        "drive.mount('/content/drive')"
      ],
      "execution_count": 1,
      "outputs": [
        {
          "output_type": "stream",
          "text": [
            "Mounted at /content/drive\n"
          ],
          "name": "stdout"
        }
      ]
    },
    {
      "cell_type": "code",
      "metadata": {
        "id": "2AM9v7qJ00PE"
      },
      "source": [
        "ORIGINAL_RESULTS = \"/content/drive/MyDrive/TFM/comparison_files/original_predictions.csv\"\n",
        "YOLO_RESULTS = \"/content/drive/MyDrive/TFM/comparison_files/people_crop_predictions.csv\"\n",
        "CROP_RESULTS = \"/content/drive/MyDrive/TFM/comparison_files/segmentation_crop_predictions.csv\"\n",
        "\n",
        "ORIGINAL_METRICS = \"/content/drive/MyDrive/TFM/comparison_files/original_metrics.csv\"\n",
        "YOLO_METRICS = \"/content/drive/MyDrive/TFM/comparison_files/people_crop_metrics.csv\"\n",
        "CROP_METRICS = \"/content/drive/MyDrive/TFM/comparison_files/segmentation_crop_metrics.csv\""
      ],
      "execution_count": 5,
      "outputs": []
    },
    {
      "cell_type": "markdown",
      "metadata": {
        "id": "tYd95vdfZB5c"
      },
      "source": [
        "## Read predictions\n"
      ]
    },
    {
      "cell_type": "code",
      "metadata": {
        "id": "K1p3nCj_e6dd"
      },
      "source": [
        "import pandas as pd\n",
        "import ntpath\n",
        "import os\n",
        "import matplotlib.pyplot as plt"
      ],
      "execution_count": 3,
      "outputs": []
    },
    {
      "cell_type": "code",
      "metadata": {
        "id": "NauQTvOBoNiU"
      },
      "source": [
        "original_df = pd.read_csv(ORIGINAL_RESULTS)\n",
        "yolo_df = pd.read_csv(YOLO_RESULTS)\n",
        "crop_df = pd.read_csv(CROP_RESULTS)\n",
        "\n",
        "original_metrics_df = pd.read_csv(ORIGINAL_METRICS)\n",
        "yolo_metrics_df = pd.read_csv(YOLO_METRICS)\n",
        "crop_metrics_df = pd.read_csv(CROP_METRICS)"
      ],
      "execution_count": 6,
      "outputs": []
    },
    {
      "cell_type": "code",
      "metadata": {
        "colab": {
          "base_uri": "https://localhost:8080/",
          "height": 300
        },
        "id": "jow12VdCfFj5",
        "outputId": "92011299-eb44-4371-de7d-3f07b98da0e1"
      },
      "source": [
        "original_df.describe()"
      ],
      "execution_count": 7,
      "outputs": [
        {
          "output_type": "execute_result",
          "data": {
            "text/html": [
              "<div>\n",
              "<style scoped>\n",
              "    .dataframe tbody tr th:only-of-type {\n",
              "        vertical-align: middle;\n",
              "    }\n",
              "\n",
              "    .dataframe tbody tr th {\n",
              "        vertical-align: top;\n",
              "    }\n",
              "\n",
              "    .dataframe thead th {\n",
              "        text-align: right;\n",
              "    }\n",
              "</style>\n",
              "<table border=\"1\" class=\"dataframe\">\n",
              "  <thead>\n",
              "    <tr style=\"text-align: right;\">\n",
              "      <th></th>\n",
              "      <th>Unnamed: 0</th>\n",
              "      <th>x_min</th>\n",
              "      <th>y_min</th>\n",
              "      <th>x_max</th>\n",
              "      <th>y_max</th>\n",
              "      <th>score</th>\n",
              "    </tr>\n",
              "  </thead>\n",
              "  <tbody>\n",
              "    <tr>\n",
              "      <th>count</th>\n",
              "      <td>1148.000000</td>\n",
              "      <td>1148.000000</td>\n",
              "      <td>1148.000000</td>\n",
              "      <td>1148.000000</td>\n",
              "      <td>1148.000000</td>\n",
              "      <td>1148.000000</td>\n",
              "    </tr>\n",
              "    <tr>\n",
              "      <th>mean</th>\n",
              "      <td>573.500000</td>\n",
              "      <td>1061.672474</td>\n",
              "      <td>499.052265</td>\n",
              "      <td>1118.926829</td>\n",
              "      <td>545.965157</td>\n",
              "      <td>92.979094</td>\n",
              "    </tr>\n",
              "    <tr>\n",
              "      <th>std</th>\n",
              "      <td>331.543361</td>\n",
              "      <td>364.291907</td>\n",
              "      <td>166.376997</td>\n",
              "      <td>364.905632</td>\n",
              "      <td>172.115122</td>\n",
              "      <td>8.354999</td>\n",
              "    </tr>\n",
              "    <tr>\n",
              "      <th>min</th>\n",
              "      <td>0.000000</td>\n",
              "      <td>-32.000000</td>\n",
              "      <td>16.000000</td>\n",
              "      <td>32.000000</td>\n",
              "      <td>80.000000</td>\n",
              "      <td>70.000000</td>\n",
              "    </tr>\n",
              "    <tr>\n",
              "      <th>25%</th>\n",
              "      <td>286.750000</td>\n",
              "      <td>848.000000</td>\n",
              "      <td>400.000000</td>\n",
              "      <td>912.000000</td>\n",
              "      <td>448.000000</td>\n",
              "      <td>89.000000</td>\n",
              "    </tr>\n",
              "    <tr>\n",
              "      <th>50%</th>\n",
              "      <td>573.500000</td>\n",
              "      <td>1088.000000</td>\n",
              "      <td>464.000000</td>\n",
              "      <td>1152.000000</td>\n",
              "      <td>528.000000</td>\n",
              "      <td>98.000000</td>\n",
              "    </tr>\n",
              "    <tr>\n",
              "      <th>75%</th>\n",
              "      <td>860.250000</td>\n",
              "      <td>1280.000000</td>\n",
              "      <td>608.000000</td>\n",
              "      <td>1328.000000</td>\n",
              "      <td>640.000000</td>\n",
              "      <td>99.000000</td>\n",
              "    </tr>\n",
              "    <tr>\n",
              "      <th>max</th>\n",
              "      <td>1147.000000</td>\n",
              "      <td>1856.000000</td>\n",
              "      <td>1040.000000</td>\n",
              "      <td>1936.000000</td>\n",
              "      <td>1072.000000</td>\n",
              "      <td>99.000000</td>\n",
              "    </tr>\n",
              "  </tbody>\n",
              "</table>\n",
              "</div>"
            ],
            "text/plain": [
              "        Unnamed: 0        x_min  ...        y_max        score\n",
              "count  1148.000000  1148.000000  ...  1148.000000  1148.000000\n",
              "mean    573.500000  1061.672474  ...   545.965157    92.979094\n",
              "std     331.543361   364.291907  ...   172.115122     8.354999\n",
              "min       0.000000   -32.000000  ...    80.000000    70.000000\n",
              "25%     286.750000   848.000000  ...   448.000000    89.000000\n",
              "50%     573.500000  1088.000000  ...   528.000000    98.000000\n",
              "75%     860.250000  1280.000000  ...   640.000000    99.000000\n",
              "max    1147.000000  1856.000000  ...  1072.000000    99.000000\n",
              "\n",
              "[8 rows x 6 columns]"
            ]
          },
          "metadata": {
            "tags": []
          },
          "execution_count": 7
        }
      ]
    },
    {
      "cell_type": "code",
      "metadata": {
        "colab": {
          "base_uri": "https://localhost:8080/",
          "height": 300
        },
        "id": "0cODUpaqu1Nw",
        "outputId": "1afc0c15-3464-4df1-e35e-d5fb95d44910"
      },
      "source": [
        "yolo_df.describe()"
      ],
      "execution_count": 12,
      "outputs": [
        {
          "output_type": "execute_result",
          "data": {
            "text/html": [
              "<div>\n",
              "<style scoped>\n",
              "    .dataframe tbody tr th:only-of-type {\n",
              "        vertical-align: middle;\n",
              "    }\n",
              "\n",
              "    .dataframe tbody tr th {\n",
              "        vertical-align: top;\n",
              "    }\n",
              "\n",
              "    .dataframe thead th {\n",
              "        text-align: right;\n",
              "    }\n",
              "</style>\n",
              "<table border=\"1\" class=\"dataframe\">\n",
              "  <thead>\n",
              "    <tr style=\"text-align: right;\">\n",
              "      <th></th>\n",
              "      <th>Unnamed: 0</th>\n",
              "      <th>x_min</th>\n",
              "      <th>y_min</th>\n",
              "      <th>x_max</th>\n",
              "      <th>y_max</th>\n",
              "      <th>score</th>\n",
              "    </tr>\n",
              "  </thead>\n",
              "  <tbody>\n",
              "    <tr>\n",
              "      <th>count</th>\n",
              "      <td>768.000000</td>\n",
              "      <td>768.00000</td>\n",
              "      <td>768.000000</td>\n",
              "      <td>768.000000</td>\n",
              "      <td>768.000000</td>\n",
              "      <td>768.000000</td>\n",
              "    </tr>\n",
              "    <tr>\n",
              "      <th>mean</th>\n",
              "      <td>383.500000</td>\n",
              "      <td>89.68750</td>\n",
              "      <td>266.312500</td>\n",
              "      <td>148.770833</td>\n",
              "      <td>315.020833</td>\n",
              "      <td>95.067708</td>\n",
              "    </tr>\n",
              "    <tr>\n",
              "      <th>std</th>\n",
              "      <td>221.846794</td>\n",
              "      <td>67.46168</td>\n",
              "      <td>165.744046</td>\n",
              "      <td>79.677509</td>\n",
              "      <td>176.336882</td>\n",
              "      <td>6.933892</td>\n",
              "    </tr>\n",
              "    <tr>\n",
              "      <th>min</th>\n",
              "      <td>0.000000</td>\n",
              "      <td>-16.00000</td>\n",
              "      <td>16.000000</td>\n",
              "      <td>16.000000</td>\n",
              "      <td>32.000000</td>\n",
              "      <td>70.000000</td>\n",
              "    </tr>\n",
              "    <tr>\n",
              "      <th>25%</th>\n",
              "      <td>191.750000</td>\n",
              "      <td>48.00000</td>\n",
              "      <td>160.000000</td>\n",
              "      <td>96.000000</td>\n",
              "      <td>192.000000</td>\n",
              "      <td>94.000000</td>\n",
              "    </tr>\n",
              "    <tr>\n",
              "      <th>50%</th>\n",
              "      <td>383.500000</td>\n",
              "      <td>80.00000</td>\n",
              "      <td>224.000000</td>\n",
              "      <td>128.000000</td>\n",
              "      <td>272.000000</td>\n",
              "      <td>99.000000</td>\n",
              "    </tr>\n",
              "    <tr>\n",
              "      <th>75%</th>\n",
              "      <td>575.250000</td>\n",
              "      <td>112.00000</td>\n",
              "      <td>336.000000</td>\n",
              "      <td>192.000000</td>\n",
              "      <td>384.000000</td>\n",
              "      <td>99.000000</td>\n",
              "    </tr>\n",
              "    <tr>\n",
              "      <th>max</th>\n",
              "      <td>767.000000</td>\n",
              "      <td>464.00000</td>\n",
              "      <td>992.000000</td>\n",
              "      <td>512.000000</td>\n",
              "      <td>1024.000000</td>\n",
              "      <td>99.000000</td>\n",
              "    </tr>\n",
              "  </tbody>\n",
              "</table>\n",
              "</div>"
            ],
            "text/plain": [
              "       Unnamed: 0      x_min       y_min       x_max        y_max       score\n",
              "count  768.000000  768.00000  768.000000  768.000000   768.000000  768.000000\n",
              "mean   383.500000   89.68750  266.312500  148.770833   315.020833   95.067708\n",
              "std    221.846794   67.46168  165.744046   79.677509   176.336882    6.933892\n",
              "min      0.000000  -16.00000   16.000000   16.000000    32.000000   70.000000\n",
              "25%    191.750000   48.00000  160.000000   96.000000   192.000000   94.000000\n",
              "50%    383.500000   80.00000  224.000000  128.000000   272.000000   99.000000\n",
              "75%    575.250000  112.00000  336.000000  192.000000   384.000000   99.000000\n",
              "max    767.000000  464.00000  992.000000  512.000000  1024.000000   99.000000"
            ]
          },
          "metadata": {
            "tags": []
          },
          "execution_count": 12
        }
      ]
    },
    {
      "cell_type": "code",
      "metadata": {
        "colab": {
          "base_uri": "https://localhost:8080/",
          "height": 300
        },
        "id": "gW4u7VyyfHRZ",
        "outputId": "9b955b51-9196-48fe-8ff2-8247bd998a62"
      },
      "source": [
        "crop_df.describe()"
      ],
      "execution_count": 13,
      "outputs": [
        {
          "output_type": "execute_result",
          "data": {
            "text/html": [
              "<div>\n",
              "<style scoped>\n",
              "    .dataframe tbody tr th:only-of-type {\n",
              "        vertical-align: middle;\n",
              "    }\n",
              "\n",
              "    .dataframe tbody tr th {\n",
              "        vertical-align: top;\n",
              "    }\n",
              "\n",
              "    .dataframe thead th {\n",
              "        text-align: right;\n",
              "    }\n",
              "</style>\n",
              "<table border=\"1\" class=\"dataframe\">\n",
              "  <thead>\n",
              "    <tr style=\"text-align: right;\">\n",
              "      <th></th>\n",
              "      <th>Unnamed: 0</th>\n",
              "      <th>x_min</th>\n",
              "      <th>y_min</th>\n",
              "      <th>x_max</th>\n",
              "      <th>y_max</th>\n",
              "      <th>score</th>\n",
              "    </tr>\n",
              "  </thead>\n",
              "  <tbody>\n",
              "    <tr>\n",
              "      <th>count</th>\n",
              "      <td>449.000000</td>\n",
              "      <td>449.000000</td>\n",
              "      <td>449.000000</td>\n",
              "      <td>449.000000</td>\n",
              "      <td>449.000000</td>\n",
              "      <td>449.000000</td>\n",
              "    </tr>\n",
              "    <tr>\n",
              "      <th>mean</th>\n",
              "      <td>224.000000</td>\n",
              "      <td>66.351893</td>\n",
              "      <td>200.730512</td>\n",
              "      <td>133.879733</td>\n",
              "      <td>255.465479</td>\n",
              "      <td>94.888641</td>\n",
              "    </tr>\n",
              "    <tr>\n",
              "      <th>std</th>\n",
              "      <td>129.759393</td>\n",
              "      <td>52.330261</td>\n",
              "      <td>112.018657</td>\n",
              "      <td>62.629821</td>\n",
              "      <td>121.534237</td>\n",
              "      <td>7.305886</td>\n",
              "    </tr>\n",
              "    <tr>\n",
              "      <th>min</th>\n",
              "      <td>0.000000</td>\n",
              "      <td>-32.000000</td>\n",
              "      <td>0.000000</td>\n",
              "      <td>32.000000</td>\n",
              "      <td>48.000000</td>\n",
              "      <td>70.000000</td>\n",
              "    </tr>\n",
              "    <tr>\n",
              "      <th>25%</th>\n",
              "      <td>112.000000</td>\n",
              "      <td>32.000000</td>\n",
              "      <td>128.000000</td>\n",
              "      <td>96.000000</td>\n",
              "      <td>176.000000</td>\n",
              "      <td>95.000000</td>\n",
              "    </tr>\n",
              "    <tr>\n",
              "      <th>50%</th>\n",
              "      <td>224.000000</td>\n",
              "      <td>48.000000</td>\n",
              "      <td>176.000000</td>\n",
              "      <td>112.000000</td>\n",
              "      <td>224.000000</td>\n",
              "      <td>99.000000</td>\n",
              "    </tr>\n",
              "    <tr>\n",
              "      <th>75%</th>\n",
              "      <td>336.000000</td>\n",
              "      <td>80.000000</td>\n",
              "      <td>240.000000</td>\n",
              "      <td>160.000000</td>\n",
              "      <td>304.000000</td>\n",
              "      <td>99.000000</td>\n",
              "    </tr>\n",
              "    <tr>\n",
              "      <th>max</th>\n",
              "      <td>448.000000</td>\n",
              "      <td>384.000000</td>\n",
              "      <td>736.000000</td>\n",
              "      <td>464.000000</td>\n",
              "      <td>800.000000</td>\n",
              "      <td>99.000000</td>\n",
              "    </tr>\n",
              "  </tbody>\n",
              "</table>\n",
              "</div>"
            ],
            "text/plain": [
              "       Unnamed: 0       x_min       y_min       x_max       y_max       score\n",
              "count  449.000000  449.000000  449.000000  449.000000  449.000000  449.000000\n",
              "mean   224.000000   66.351893  200.730512  133.879733  255.465479   94.888641\n",
              "std    129.759393   52.330261  112.018657   62.629821  121.534237    7.305886\n",
              "min      0.000000  -32.000000    0.000000   32.000000   48.000000   70.000000\n",
              "25%    112.000000   32.000000  128.000000   96.000000  176.000000   95.000000\n",
              "50%    224.000000   48.000000  176.000000  112.000000  224.000000   99.000000\n",
              "75%    336.000000   80.000000  240.000000  160.000000  304.000000   99.000000\n",
              "max    448.000000  384.000000  736.000000  464.000000  800.000000   99.000000"
            ]
          },
          "metadata": {
            "tags": []
          },
          "execution_count": 13
        }
      ]
    },
    {
      "cell_type": "code",
      "metadata": {
        "colab": {
          "base_uri": "https://localhost:8080/",
          "height": 300
        },
        "id": "FN3Wy1MPaibr",
        "outputId": "823ae106-b2bd-4a1c-d638-c58f36652b96"
      },
      "source": [
        "original_metrics_df.describe()"
      ],
      "execution_count": 16,
      "outputs": [
        {
          "output_type": "execute_result",
          "data": {
            "text/html": [
              "<div>\n",
              "<style scoped>\n",
              "    .dataframe tbody tr th:only-of-type {\n",
              "        vertical-align: middle;\n",
              "    }\n",
              "\n",
              "    .dataframe tbody tr th {\n",
              "        vertical-align: top;\n",
              "    }\n",
              "\n",
              "    .dataframe thead th {\n",
              "        text-align: right;\n",
              "    }\n",
              "</style>\n",
              "<table border=\"1\" class=\"dataframe\">\n",
              "  <thead>\n",
              "    <tr style=\"text-align: right;\">\n",
              "      <th></th>\n",
              "      <th>Unnamed: 0</th>\n",
              "      <th>mAP</th>\n",
              "    </tr>\n",
              "  </thead>\n",
              "  <tbody>\n",
              "    <tr>\n",
              "      <th>count</th>\n",
              "      <td>489.000000</td>\n",
              "      <td>489.000000</td>\n",
              "    </tr>\n",
              "    <tr>\n",
              "      <th>mean</th>\n",
              "      <td>244.000000</td>\n",
              "      <td>0.827409</td>\n",
              "    </tr>\n",
              "    <tr>\n",
              "      <th>std</th>\n",
              "      <td>141.306405</td>\n",
              "      <td>0.320691</td>\n",
              "    </tr>\n",
              "    <tr>\n",
              "      <th>min</th>\n",
              "      <td>0.000000</td>\n",
              "      <td>0.000000</td>\n",
              "    </tr>\n",
              "    <tr>\n",
              "      <th>25%</th>\n",
              "      <td>122.000000</td>\n",
              "      <td>0.833333</td>\n",
              "    </tr>\n",
              "    <tr>\n",
              "      <th>50%</th>\n",
              "      <td>244.000000</td>\n",
              "      <td>1.000000</td>\n",
              "    </tr>\n",
              "    <tr>\n",
              "      <th>75%</th>\n",
              "      <td>366.000000</td>\n",
              "      <td>1.000000</td>\n",
              "    </tr>\n",
              "    <tr>\n",
              "      <th>max</th>\n",
              "      <td>488.000000</td>\n",
              "      <td>1.000000</td>\n",
              "    </tr>\n",
              "  </tbody>\n",
              "</table>\n",
              "</div>"
            ],
            "text/plain": [
              "       Unnamed: 0         mAP\n",
              "count  489.000000  489.000000\n",
              "mean   244.000000    0.827409\n",
              "std    141.306405    0.320691\n",
              "min      0.000000    0.000000\n",
              "25%    122.000000    0.833333\n",
              "50%    244.000000    1.000000\n",
              "75%    366.000000    1.000000\n",
              "max    488.000000    1.000000"
            ]
          },
          "metadata": {
            "tags": []
          },
          "execution_count": 16
        }
      ]
    },
    {
      "cell_type": "code",
      "metadata": {
        "colab": {
          "base_uri": "https://localhost:8080/",
          "height": 300
        },
        "id": "JW4YuAlou-yU",
        "outputId": "71199c96-3feb-4687-de67-b5fa7196fab7"
      },
      "source": [
        "yolo_metrics_df.describe()"
      ],
      "execution_count": 14,
      "outputs": [
        {
          "output_type": "execute_result",
          "data": {
            "text/html": [
              "<div>\n",
              "<style scoped>\n",
              "    .dataframe tbody tr th:only-of-type {\n",
              "        vertical-align: middle;\n",
              "    }\n",
              "\n",
              "    .dataframe tbody tr th {\n",
              "        vertical-align: top;\n",
              "    }\n",
              "\n",
              "    .dataframe thead th {\n",
              "        text-align: right;\n",
              "    }\n",
              "</style>\n",
              "<table border=\"1\" class=\"dataframe\">\n",
              "  <thead>\n",
              "    <tr style=\"text-align: right;\">\n",
              "      <th></th>\n",
              "      <th>Unnamed: 0</th>\n",
              "      <th>mAP</th>\n",
              "    </tr>\n",
              "  </thead>\n",
              "  <tbody>\n",
              "    <tr>\n",
              "      <th>count</th>\n",
              "      <td>631.00000</td>\n",
              "      <td>631.000000</td>\n",
              "    </tr>\n",
              "    <tr>\n",
              "      <th>mean</th>\n",
              "      <td>315.00000</td>\n",
              "      <td>0.732171</td>\n",
              "    </tr>\n",
              "    <tr>\n",
              "      <th>std</th>\n",
              "      <td>182.29829</td>\n",
              "      <td>0.435957</td>\n",
              "    </tr>\n",
              "    <tr>\n",
              "      <th>min</th>\n",
              "      <td>0.00000</td>\n",
              "      <td>0.000000</td>\n",
              "    </tr>\n",
              "    <tr>\n",
              "      <th>25%</th>\n",
              "      <td>157.50000</td>\n",
              "      <td>0.000000</td>\n",
              "    </tr>\n",
              "    <tr>\n",
              "      <th>50%</th>\n",
              "      <td>315.00000</td>\n",
              "      <td>1.000000</td>\n",
              "    </tr>\n",
              "    <tr>\n",
              "      <th>75%</th>\n",
              "      <td>472.50000</td>\n",
              "      <td>1.000000</td>\n",
              "    </tr>\n",
              "    <tr>\n",
              "      <th>max</th>\n",
              "      <td>630.00000</td>\n",
              "      <td>1.000000</td>\n",
              "    </tr>\n",
              "  </tbody>\n",
              "</table>\n",
              "</div>"
            ],
            "text/plain": [
              "       Unnamed: 0         mAP\n",
              "count   631.00000  631.000000\n",
              "mean    315.00000    0.732171\n",
              "std     182.29829    0.435957\n",
              "min       0.00000    0.000000\n",
              "25%     157.50000    0.000000\n",
              "50%     315.00000    1.000000\n",
              "75%     472.50000    1.000000\n",
              "max     630.00000    1.000000"
            ]
          },
          "metadata": {
            "tags": []
          },
          "execution_count": 14
        }
      ]
    },
    {
      "cell_type": "code",
      "metadata": {
        "colab": {
          "base_uri": "https://localhost:8080/",
          "height": 300
        },
        "id": "wa0iNNFGvMuH",
        "outputId": "5ef51beb-2db1-4f44-8450-cd98440d3cfc"
      },
      "source": [
        "crop_metrics_df.describe()"
      ],
      "execution_count": 15,
      "outputs": [
        {
          "output_type": "execute_result",
          "data": {
            "text/html": [
              "<div>\n",
              "<style scoped>\n",
              "    .dataframe tbody tr th:only-of-type {\n",
              "        vertical-align: middle;\n",
              "    }\n",
              "\n",
              "    .dataframe tbody tr th {\n",
              "        vertical-align: top;\n",
              "    }\n",
              "\n",
              "    .dataframe thead th {\n",
              "        text-align: right;\n",
              "    }\n",
              "</style>\n",
              "<table border=\"1\" class=\"dataframe\">\n",
              "  <thead>\n",
              "    <tr style=\"text-align: right;\">\n",
              "      <th></th>\n",
              "      <th>Unnamed: 0</th>\n",
              "      <th>mAP</th>\n",
              "    </tr>\n",
              "  </thead>\n",
              "  <tbody>\n",
              "    <tr>\n",
              "      <th>count</th>\n",
              "      <td>382.000000</td>\n",
              "      <td>382.000000</td>\n",
              "    </tr>\n",
              "    <tr>\n",
              "      <th>mean</th>\n",
              "      <td>190.500000</td>\n",
              "      <td>0.743455</td>\n",
              "    </tr>\n",
              "    <tr>\n",
              "      <th>std</th>\n",
              "      <td>110.418145</td>\n",
              "      <td>0.434287</td>\n",
              "    </tr>\n",
              "    <tr>\n",
              "      <th>min</th>\n",
              "      <td>0.000000</td>\n",
              "      <td>0.000000</td>\n",
              "    </tr>\n",
              "    <tr>\n",
              "      <th>25%</th>\n",
              "      <td>95.250000</td>\n",
              "      <td>0.125000</td>\n",
              "    </tr>\n",
              "    <tr>\n",
              "      <th>50%</th>\n",
              "      <td>190.500000</td>\n",
              "      <td>1.000000</td>\n",
              "    </tr>\n",
              "    <tr>\n",
              "      <th>75%</th>\n",
              "      <td>285.750000</td>\n",
              "      <td>1.000000</td>\n",
              "    </tr>\n",
              "    <tr>\n",
              "      <th>max</th>\n",
              "      <td>381.000000</td>\n",
              "      <td>1.000000</td>\n",
              "    </tr>\n",
              "  </tbody>\n",
              "</table>\n",
              "</div>"
            ],
            "text/plain": [
              "       Unnamed: 0         mAP\n",
              "count  382.000000  382.000000\n",
              "mean   190.500000    0.743455\n",
              "std    110.418145    0.434287\n",
              "min      0.000000    0.000000\n",
              "25%     95.250000    0.125000\n",
              "50%    190.500000    1.000000\n",
              "75%    285.750000    1.000000\n",
              "max    381.000000    1.000000"
            ]
          },
          "metadata": {
            "tags": []
          },
          "execution_count": 15
        }
      ]
    },
    {
      "cell_type": "markdown",
      "metadata": {
        "id": "7qxomJQzvVZf"
      },
      "source": [
        "## Perform further analysis"
      ]
    },
    {
      "cell_type": "code",
      "metadata": {
        "id": "20a-EPOtvdCq"
      },
      "source": [
        "def get_original(crop_name):\n",
        "  folder = f'{crop_name.split(\"_\")[1]}_{crop_name.split(\"_\")[2]}'\n",
        "  return original_df[original_df['name'] == folder]"
      ],
      "execution_count": 17,
      "outputs": []
    },
    {
      "cell_type": "code",
      "metadata": {
        "id": "oP0PybZbBbp_"
      },
      "source": [
        "def get_from_original(image_name):\n",
        "  return crop_df[crop_df['name'].str.endswith(image_name)]"
      ],
      "execution_count": 18,
      "outputs": []
    },
    {
      "cell_type": "code",
      "metadata": {
        "id": "DY1iXkbpmiID"
      },
      "source": [
        "original_df['name'] = original_df['name'].apply(lambda x: ntpath.basename(x))\n",
        "crop_df['name'] = crop_df['name'].apply(lambda x: ntpath.basename(x))"
      ],
      "execution_count": 19,
      "outputs": []
    },
    {
      "cell_type": "code",
      "metadata": {
        "id": "LgDg0JQZumXD"
      },
      "source": [
        "original_df.drop('Unnamed: 0', inplace=True, axis=1)"
      ],
      "execution_count": 20,
      "outputs": []
    },
    {
      "cell_type": "code",
      "metadata": {
        "id": "sSvkmeC6u1_u"
      },
      "source": [
        "crop_df.drop('Unnamed: 0', inplace=True, axis=1)"
      ],
      "execution_count": 21,
      "outputs": []
    },
    {
      "cell_type": "code",
      "metadata": {
        "colab": {
          "base_uri": "https://localhost:8080/",
          "height": 972
        },
        "id": "D0cuBLGnIOLN",
        "outputId": "f9f1d9d3-e6cb-4cc2-de05-3f46813468fc"
      },
      "source": [
        "fig, axs = plt.subplots(3, 2)\n",
        "fig.set_size_inches(25, 15)\n",
        "\n",
        "# Amount of images\n",
        "\n",
        "indexes = [0, 1, 2]\n",
        "heights = [len(original_df.index), len(crop_df.index), len(yolo_df.index)]\n",
        "labels = ['Original', 'Semantic seg. used', 'Only crop runner']\n",
        "\n",
        "axs[0, 0].bar(indexes[0], heights[0])\n",
        "axs[0, 0].bar(indexes[1], heights[1])\n",
        "axs[0, 0].bar(indexes[2], heights[2])\n",
        "\n",
        "axs[0, 0].set_title('Amount of detections')\n",
        "axs[0, 0].set_xticks(indexes)\n",
        "axs[0, 0].set_xticklabels(labels)\n",
        "\n",
        "for i, v in enumerate(labels):\n",
        "  axs[0, 0].text(-0.07 + i, min(heights)/2, heights[i], fontsize=18, color=(1,1,1,1))\n",
        "\n",
        "# Mean Score\n",
        "\n",
        "heights = [original_df['score'].mean(), crop_df['score'].mean(), yolo_df['score'].mean()]\n",
        "labels = ['Original', 'Semantic seg.', 'Only crop runner']\n",
        "\n",
        "axs[0, 1].bar(indexes[0], heights[0])\n",
        "axs[0, 1].bar(indexes[1], heights[1])\n",
        "axs[0, 1].bar(indexes[2], heights[2])\n",
        "\n",
        "axs[0, 1].set_title('Mean score')\n",
        "axs[0, 1].set_xticks(indexes)\n",
        "axs[0, 1].set_xticklabels(labels)\n",
        "\n",
        "for i, v in enumerate(labels):\n",
        "  axs[0, 1].text(-0.15 + i, 10, f'{round(heights[i], 2)}%', fontsize=18, color=(1,1,1,1))\n",
        "\n",
        "\n",
        "# Boxplot scores\n",
        "\n",
        "heights = [original_df['score'].to_numpy(), crop_df['score'].to_numpy(), yolo_df['score'].to_numpy()]\n",
        "labels = ['Original', 'Semantic seg.', 'Only crop runner']\n",
        "\n",
        "axs[1, 0].boxplot([heights[0], heights[1], heights[2]])\n",
        "\n",
        "axs[1, 0].set_title('Score')\n",
        "axs[1, 0].set_xticklabels(labels)\n",
        "\n",
        "# mAP scores\n",
        "\n",
        "heights = [original_metrics_df['mAP'].mean()*100, crop_metrics_df['mAP'].mean()*100, yolo_metrics_df['mAP'].mean()*100]\n",
        "labels = ['Original', 'Semantic seg.', 'Only crop runner']\n",
        "\n",
        "axs[1, 1].bar(indexes[0], heights[0])\n",
        "axs[1, 1].bar(indexes[1], heights[1])\n",
        "axs[1, 1].bar(indexes[2], heights[2])\n",
        "\n",
        "axs[1, 1].set_title('Mean mAP')\n",
        "axs[1, 1].set_xticks(indexes)\n",
        "axs[1, 1].set_xticklabels(labels)\n",
        "\n",
        "for i, v in enumerate(labels):\n",
        "  axs[1, 1].text(-0.15 + i, 10, f'{round(heights[i], 2)}%', fontsize=18, color=(1,1,1,1))\n",
        "\n",
        "# Boxplot mAP\n",
        "\n",
        "heights = [original_metrics_df['mAP'].to_numpy(), crop_metrics_df['mAP'].to_numpy(), yolo_metrics_df['mAP'].to_numpy()]\n",
        "labels = ['Original', 'Semantic seg.', 'Only crop runner']\n",
        "\n",
        "axs[2, 0].boxplot([heights[0], heights[1], heights[2]])\n",
        "\n",
        "axs[2, 0].set_title('mAP')\n",
        "axs[2, 0].set_xticklabels(labels)\n",
        "\n",
        "plt.show()"
      ],
      "execution_count": 34,
      "outputs": [
        {
          "output_type": "stream",
          "text": [
            "/usr/local/lib/python3.7/dist-packages/numpy/core/_asarray.py:83: VisibleDeprecationWarning: Creating an ndarray from ragged nested sequences (which is a list-or-tuple of lists-or-tuples-or ndarrays with different lengths or shapes) is deprecated. If you meant to do this, you must specify 'dtype=object' when creating the ndarray\n",
            "  return array(a, dtype, copy=False, order=order)\n",
            "/usr/local/lib/python3.7/dist-packages/numpy/core/_asarray.py:83: VisibleDeprecationWarning: Creating an ndarray from ragged nested sequences (which is a list-or-tuple of lists-or-tuples-or ndarrays with different lengths or shapes) is deprecated. If you meant to do this, you must specify 'dtype=object' when creating the ndarray\n",
            "  return array(a, dtype, copy=False, order=order)\n"
          ],
          "name": "stderr"
        },
        {
          "output_type": "display_data",
          "data": {
            "image/png": "[encoded data removed]",
            "text/plain": [
              "<Figure size 1800x1080 with 6 Axes>"
            ]
          },
          "metadata": {
            "tags": [],
            "needs_background": "light"
          }
        }
      ]
    },
    {
      "cell_type": "code",
      "metadata": {
        "id": "Oj5z_iGbMARM"
      },
      "source": [
        ""
      ],
      "execution_count": null,
      "outputs": []
    }
  ]
}