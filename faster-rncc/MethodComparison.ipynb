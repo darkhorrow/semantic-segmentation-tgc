{
  "nbformat": 4,
  "nbformat_minor": 0,
  "metadata": {
    "colab": {
      "name": "MethodComparison.ipynb",
      "provenance": [],
      "collapsed_sections": []
    },
    "kernelspec": {
      "name": "python3",
      "display_name": "Python 3"
    },
    "language_info": {
      "name": "python"
    }
  },
  "cells": [
    {
      "cell_type": "markdown",
      "metadata": {
        "id": "ZJlUxtE_0fka"
      },
      "source": [
        "# Method comparison\n",
        "\n",
        "Comparison between the detections in the original images and the processed by Deeplav3 + OpenCV post-processing"
      ]
    },
    {
      "cell_type": "markdown",
      "metadata": {
        "id": "Ytc5ljCl4mUz"
      },
      "source": [
        "## Path definitions"
      ]
    },
    {
      "cell_type": "code",
      "metadata": {
        "colab": {
          "base_uri": "https://localhost:8080/"
        },
        "id": "ZHIpOJaq0Igb",
        "outputId": "78dd192f-5498-485f-f74b-2923e2ab3654"
      },
      "source": [
        "from google.colab import drive\n",
        "drive.mount('/content/drive')"
      ],
      "execution_count": 1,
      "outputs": [
        {
          "output_type": "stream",
          "text": [
            "Mounted at /content/drive\n"
          ],
          "name": "stdout"
        }
      ]
    },
    {
      "cell_type": "code",
      "metadata": {
        "id": "2AM9v7qJ00PE"
      },
      "source": [
        "ORIGINAL_RESULTS = \"/content/drive/MyDrive/TFM/comparison_files/original_predictions.csv\"\n",
        "CROP_RESULTS = \"/content/drive/MyDrive/TFM/comparison_files/crop90_predictions.csv\"\n",
        "ORIGINAL_METRICS = \"/content/drive/MyDrive/TFM/comparison_files/original_metrics.csv\""
      ],
      "execution_count": 2,
      "outputs": []
    },
    {
      "cell_type": "markdown",
      "metadata": {
        "id": "tYd95vdfZB5c"
      },
      "source": [
        "## Read predictions\n"
      ]
    },
    {
      "cell_type": "code",
      "metadata": {
        "id": "K1p3nCj_e6dd"
      },
      "source": [
        "import pandas as pd\n",
        "import ntpath\n",
        "import os\n",
        "import matplotlib.pyplot as plt"
      ],
      "execution_count": 3,
      "outputs": []
    },
    {
      "cell_type": "code",
      "metadata": {
        "id": "NauQTvOBoNiU"
      },
      "source": [
        "original_df = pd.read_csv(ORIGINAL_RESULTS)\n",
        "crop_df = pd.read_csv(CROP_RESULTS)\n",
        "original_metrics_df = pd.read_csv(ORIGINAL_METRICS)"
      ],
      "execution_count": 4,
      "outputs": []
    },
    {
      "cell_type": "code",
      "metadata": {
        "colab": {
          "base_uri": "https://localhost:8080/",
          "height": 300
        },
        "id": "jow12VdCfFj5",
        "outputId": "9a21cf9b-c42a-490b-f2b5-d78b5e2562b7"
      },
      "source": [
        "original_df.describe()"
      ],
      "execution_count": 5,
      "outputs": [
        {
          "output_type": "execute_result",
          "data": {
            "text/html": [
              "<div>\n",
              "<style scoped>\n",
              "    .dataframe tbody tr th:only-of-type {\n",
              "        vertical-align: middle;\n",
              "    }\n",
              "\n",
              "    .dataframe tbody tr th {\n",
              "        vertical-align: top;\n",
              "    }\n",
              "\n",
              "    .dataframe thead th {\n",
              "        text-align: right;\n",
              "    }\n",
              "</style>\n",
              "<table border=\"1\" class=\"dataframe\">\n",
              "  <thead>\n",
              "    <tr style=\"text-align: right;\">\n",
              "      <th></th>\n",
              "      <th>Unnamed: 0</th>\n",
              "      <th>x_min</th>\n",
              "      <th>y_min</th>\n",
              "      <th>x_max</th>\n",
              "      <th>y_max</th>\n",
              "      <th>score</th>\n",
              "    </tr>\n",
              "  </thead>\n",
              "  <tbody>\n",
              "    <tr>\n",
              "      <th>count</th>\n",
              "      <td>1148.000000</td>\n",
              "      <td>1148.000000</td>\n",
              "      <td>1148.000000</td>\n",
              "      <td>1148.000000</td>\n",
              "      <td>1148.000000</td>\n",
              "      <td>1148.000000</td>\n",
              "    </tr>\n",
              "    <tr>\n",
              "      <th>mean</th>\n",
              "      <td>573.500000</td>\n",
              "      <td>1061.672474</td>\n",
              "      <td>499.052265</td>\n",
              "      <td>1118.926829</td>\n",
              "      <td>545.965157</td>\n",
              "      <td>92.979094</td>\n",
              "    </tr>\n",
              "    <tr>\n",
              "      <th>std</th>\n",
              "      <td>331.543361</td>\n",
              "      <td>364.291907</td>\n",
              "      <td>166.376997</td>\n",
              "      <td>364.905632</td>\n",
              "      <td>172.115122</td>\n",
              "      <td>8.354999</td>\n",
              "    </tr>\n",
              "    <tr>\n",
              "      <th>min</th>\n",
              "      <td>0.000000</td>\n",
              "      <td>-32.000000</td>\n",
              "      <td>16.000000</td>\n",
              "      <td>32.000000</td>\n",
              "      <td>80.000000</td>\n",
              "      <td>70.000000</td>\n",
              "    </tr>\n",
              "    <tr>\n",
              "      <th>25%</th>\n",
              "      <td>286.750000</td>\n",
              "      <td>848.000000</td>\n",
              "      <td>400.000000</td>\n",
              "      <td>912.000000</td>\n",
              "      <td>448.000000</td>\n",
              "      <td>89.000000</td>\n",
              "    </tr>\n",
              "    <tr>\n",
              "      <th>50%</th>\n",
              "      <td>573.500000</td>\n",
              "      <td>1088.000000</td>\n",
              "      <td>464.000000</td>\n",
              "      <td>1152.000000</td>\n",
              "      <td>528.000000</td>\n",
              "      <td>98.000000</td>\n",
              "    </tr>\n",
              "    <tr>\n",
              "      <th>75%</th>\n",
              "      <td>860.250000</td>\n",
              "      <td>1280.000000</td>\n",
              "      <td>608.000000</td>\n",
              "      <td>1328.000000</td>\n",
              "      <td>640.000000</td>\n",
              "      <td>99.000000</td>\n",
              "    </tr>\n",
              "    <tr>\n",
              "      <th>max</th>\n",
              "      <td>1147.000000</td>\n",
              "      <td>1856.000000</td>\n",
              "      <td>1040.000000</td>\n",
              "      <td>1936.000000</td>\n",
              "      <td>1072.000000</td>\n",
              "      <td>99.000000</td>\n",
              "    </tr>\n",
              "  </tbody>\n",
              "</table>\n",
              "</div>"
            ],
            "text/plain": [
              "        Unnamed: 0        x_min  ...        y_max        score\n",
              "count  1148.000000  1148.000000  ...  1148.000000  1148.000000\n",
              "mean    573.500000  1061.672474  ...   545.965157    92.979094\n",
              "std     331.543361   364.291907  ...   172.115122     8.354999\n",
              "min       0.000000   -32.000000  ...    80.000000    70.000000\n",
              "25%     286.750000   848.000000  ...   448.000000    89.000000\n",
              "50%     573.500000  1088.000000  ...   528.000000    98.000000\n",
              "75%     860.250000  1280.000000  ...   640.000000    99.000000\n",
              "max    1147.000000  1856.000000  ...  1072.000000    99.000000\n",
              "\n",
              "[8 rows x 6 columns]"
            ]
          },
          "metadata": {
            "tags": []
          },
          "execution_count": 5
        }
      ]
    },
    {
      "cell_type": "code",
      "metadata": {
        "colab": {
          "base_uri": "https://localhost:8080/",
          "height": 300
        },
        "id": "gW4u7VyyfHRZ",
        "outputId": "3e9687ac-18da-4cb0-aaa0-b6804d78814d"
      },
      "source": [
        "crop_df.describe()"
      ],
      "execution_count": 6,
      "outputs": [
        {
          "output_type": "execute_result",
          "data": {
            "text/html": [
              "<div>\n",
              "<style scoped>\n",
              "    .dataframe tbody tr th:only-of-type {\n",
              "        vertical-align: middle;\n",
              "    }\n",
              "\n",
              "    .dataframe tbody tr th {\n",
              "        vertical-align: top;\n",
              "    }\n",
              "\n",
              "    .dataframe thead th {\n",
              "        text-align: right;\n",
              "    }\n",
              "</style>\n",
              "<table border=\"1\" class=\"dataframe\">\n",
              "  <thead>\n",
              "    <tr style=\"text-align: right;\">\n",
              "      <th></th>\n",
              "      <th>Unnamed: 0</th>\n",
              "      <th>x_min</th>\n",
              "      <th>y_min</th>\n",
              "      <th>x_max</th>\n",
              "      <th>y_max</th>\n",
              "      <th>score</th>\n",
              "    </tr>\n",
              "  </thead>\n",
              "  <tbody>\n",
              "    <tr>\n",
              "      <th>count</th>\n",
              "      <td>2208.000000</td>\n",
              "      <td>2208.000000</td>\n",
              "      <td>2208.000000</td>\n",
              "      <td>2208.000000</td>\n",
              "      <td>2208.000000</td>\n",
              "      <td>2208.000000</td>\n",
              "    </tr>\n",
              "    <tr>\n",
              "      <th>mean</th>\n",
              "      <td>1103.500000</td>\n",
              "      <td>69.594203</td>\n",
              "      <td>204.108696</td>\n",
              "      <td>137.086957</td>\n",
              "      <td>259.543478</td>\n",
              "      <td>95.355525</td>\n",
              "    </tr>\n",
              "    <tr>\n",
              "      <th>std</th>\n",
              "      <td>637.539018</td>\n",
              "      <td>57.536893</td>\n",
              "      <td>127.698057</td>\n",
              "      <td>67.666442</td>\n",
              "      <td>135.397777</td>\n",
              "      <td>6.857865</td>\n",
              "    </tr>\n",
              "    <tr>\n",
              "      <th>min</th>\n",
              "      <td>0.000000</td>\n",
              "      <td>-16.000000</td>\n",
              "      <td>0.000000</td>\n",
              "      <td>16.000000</td>\n",
              "      <td>16.000000</td>\n",
              "      <td>70.000000</td>\n",
              "    </tr>\n",
              "    <tr>\n",
              "      <th>25%</th>\n",
              "      <td>551.750000</td>\n",
              "      <td>32.000000</td>\n",
              "      <td>128.000000</td>\n",
              "      <td>96.000000</td>\n",
              "      <td>176.000000</td>\n",
              "      <td>95.000000</td>\n",
              "    </tr>\n",
              "    <tr>\n",
              "      <th>50%</th>\n",
              "      <td>1103.500000</td>\n",
              "      <td>48.000000</td>\n",
              "      <td>176.000000</td>\n",
              "      <td>128.000000</td>\n",
              "      <td>224.000000</td>\n",
              "      <td>99.000000</td>\n",
              "    </tr>\n",
              "    <tr>\n",
              "      <th>75%</th>\n",
              "      <td>1655.250000</td>\n",
              "      <td>96.000000</td>\n",
              "      <td>240.000000</td>\n",
              "      <td>176.000000</td>\n",
              "      <td>304.000000</td>\n",
              "      <td>99.000000</td>\n",
              "    </tr>\n",
              "    <tr>\n",
              "      <th>max</th>\n",
              "      <td>2207.000000</td>\n",
              "      <td>416.000000</td>\n",
              "      <td>896.000000</td>\n",
              "      <td>448.000000</td>\n",
              "      <td>944.000000</td>\n",
              "      <td>99.000000</td>\n",
              "    </tr>\n",
              "  </tbody>\n",
              "</table>\n",
              "</div>"
            ],
            "text/plain": [
              "        Unnamed: 0        x_min  ...        y_max        score\n",
              "count  2208.000000  2208.000000  ...  2208.000000  2208.000000\n",
              "mean   1103.500000    69.594203  ...   259.543478    95.355525\n",
              "std     637.539018    57.536893  ...   135.397777     6.857865\n",
              "min       0.000000   -16.000000  ...    16.000000    70.000000\n",
              "25%     551.750000    32.000000  ...   176.000000    95.000000\n",
              "50%    1103.500000    48.000000  ...   224.000000    99.000000\n",
              "75%    1655.250000    96.000000  ...   304.000000    99.000000\n",
              "max    2207.000000   416.000000  ...   944.000000    99.000000\n",
              "\n",
              "[8 rows x 6 columns]"
            ]
          },
          "metadata": {
            "tags": []
          },
          "execution_count": 6
        }
      ]
    },
    {
      "cell_type": "code",
      "metadata": {
        "colab": {
          "base_uri": "https://localhost:8080/",
          "height": 300
        },
        "id": "FN3Wy1MPaibr",
        "outputId": "7f9714da-9973-4f85-976b-58df5a094e98"
      },
      "source": [
        "original_metrics_df.describe()"
      ],
      "execution_count": 7,
      "outputs": [
        {
          "output_type": "execute_result",
          "data": {
            "text/html": [
              "<div>\n",
              "<style scoped>\n",
              "    .dataframe tbody tr th:only-of-type {\n",
              "        vertical-align: middle;\n",
              "    }\n",
              "\n",
              "    .dataframe tbody tr th {\n",
              "        vertical-align: top;\n",
              "    }\n",
              "\n",
              "    .dataframe thead th {\n",
              "        text-align: right;\n",
              "    }\n",
              "</style>\n",
              "<table border=\"1\" class=\"dataframe\">\n",
              "  <thead>\n",
              "    <tr style=\"text-align: right;\">\n",
              "      <th></th>\n",
              "      <th>Unnamed: 0</th>\n",
              "      <th>mAP</th>\n",
              "    </tr>\n",
              "  </thead>\n",
              "  <tbody>\n",
              "    <tr>\n",
              "      <th>count</th>\n",
              "      <td>489.000000</td>\n",
              "      <td>489.000000</td>\n",
              "    </tr>\n",
              "    <tr>\n",
              "      <th>mean</th>\n",
              "      <td>244.000000</td>\n",
              "      <td>0.827409</td>\n",
              "    </tr>\n",
              "    <tr>\n",
              "      <th>std</th>\n",
              "      <td>141.306405</td>\n",
              "      <td>0.320691</td>\n",
              "    </tr>\n",
              "    <tr>\n",
              "      <th>min</th>\n",
              "      <td>0.000000</td>\n",
              "      <td>0.000000</td>\n",
              "    </tr>\n",
              "    <tr>\n",
              "      <th>25%</th>\n",
              "      <td>122.000000</td>\n",
              "      <td>0.833333</td>\n",
              "    </tr>\n",
              "    <tr>\n",
              "      <th>50%</th>\n",
              "      <td>244.000000</td>\n",
              "      <td>1.000000</td>\n",
              "    </tr>\n",
              "    <tr>\n",
              "      <th>75%</th>\n",
              "      <td>366.000000</td>\n",
              "      <td>1.000000</td>\n",
              "    </tr>\n",
              "    <tr>\n",
              "      <th>max</th>\n",
              "      <td>488.000000</td>\n",
              "      <td>1.000000</td>\n",
              "    </tr>\n",
              "  </tbody>\n",
              "</table>\n",
              "</div>"
            ],
            "text/plain": [
              "       Unnamed: 0         mAP\n",
              "count  489.000000  489.000000\n",
              "mean   244.000000    0.827409\n",
              "std    141.306405    0.320691\n",
              "min      0.000000    0.000000\n",
              "25%    122.000000    0.833333\n",
              "50%    244.000000    1.000000\n",
              "75%    366.000000    1.000000\n",
              "max    488.000000    1.000000"
            ]
          },
          "metadata": {
            "tags": []
          },
          "execution_count": 7
        }
      ]
    },
    {
      "cell_type": "markdown",
      "metadata": {
        "id": "7qxomJQzvVZf"
      },
      "source": [
        "## Perform further analysis"
      ]
    },
    {
      "cell_type": "code",
      "metadata": {
        "id": "20a-EPOtvdCq"
      },
      "source": [
        "def get_original(crop_name):\n",
        "  folder = f'{crop_name.split(\"_\")[1]}_{crop_name.split(\"_\")[2]}'\n",
        "  return original_df[original_df['name'] == folder]"
      ],
      "execution_count": 8,
      "outputs": []
    },
    {
      "cell_type": "code",
      "metadata": {
        "id": "oP0PybZbBbp_"
      },
      "source": [
        "def get_from_original(image_name):\n",
        "  return crop_df[crop_df['name'].str.endswith(image_name)]"
      ],
      "execution_count": 9,
      "outputs": []
    },
    {
      "cell_type": "code",
      "metadata": {
        "id": "DY1iXkbpmiID"
      },
      "source": [
        "original_df['name'] = original_df['name'].apply(lambda x: ntpath.basename(x))\n",
        "crop_df['name'] = crop_df['name'].apply(lambda x: ntpath.basename(x))"
      ],
      "execution_count": 10,
      "outputs": []
    },
    {
      "cell_type": "code",
      "metadata": {
        "id": "LgDg0JQZumXD"
      },
      "source": [
        "original_df.drop('Unnamed: 0', inplace=True, axis=1)"
      ],
      "execution_count": 11,
      "outputs": []
    },
    {
      "cell_type": "code",
      "metadata": {
        "id": "sSvkmeC6u1_u"
      },
      "source": [
        "crop_df.drop('Unnamed: 0', inplace=True, axis=1)"
      ],
      "execution_count": 12,
      "outputs": []
    },
    {
      "cell_type": "code",
      "metadata": {
        "colab": {
          "base_uri": "https://localhost:8080/",
          "height": 936
        },
        "id": "D0cuBLGnIOLN",
        "outputId": "59d05937-1034-40fc-92cd-817d34d7f056"
      },
      "source": [
        "fig, axs = plt.subplots(2, 2)\n",
        "fig.set_size_inches(25, 15)\n",
        "\n",
        "# Amount of images\n",
        "\n",
        "indexes = [0, 1]\n",
        "heights = [len(original_df.index), len(crop_df.index)]\n",
        "labels = ['Original', 'Semantic seg. used']\n",
        "\n",
        "axs[0, 0].bar(indexes[0], heights[0])\n",
        "axs[0, 0].bar(indexes[1], heights[1])\n",
        "\n",
        "axs[0, 0].set_title('Amount of detections')\n",
        "axs[0, 0].set_xticks(indexes)\n",
        "axs[0, 0].set_xticklabels(labels)\n",
        "\n",
        "for i, v in enumerate(labels):\n",
        "  axs[0, 0].text(-0.07 + i, 500, heights[i], fontsize=18, color=(1,1,1,1))\n",
        "\n",
        "# Mean Score\n",
        "\n",
        "heights = [original_df['score'].mean(), crop_df['score'].mean()]\n",
        "labels = ['Original', 'Semantic seg.']\n",
        "\n",
        "axs[0, 1].bar(indexes[0], heights[0])\n",
        "axs[0, 1].bar(indexes[1], heights[1])\n",
        "\n",
        "axs[0, 1].set_title('Mean score')\n",
        "axs[0, 1].set_xticks(indexes)\n",
        "axs[0, 1].set_xticklabels(labels)\n",
        "\n",
        "for i, v in enumerate(labels):\n",
        "  axs[0, 1].text(-0.1 + i, 10, f'{round(heights[i], 2)}%', fontsize=18, color=(1,1,1,1))\n",
        "\n",
        "\n",
        "# Boxplot scores\n",
        "\n",
        "heights = [original_df['score'].to_numpy(), crop_df['score'].to_numpy()]\n",
        "labels = ['Original', 'Semantic seg.']\n",
        "\n",
        "axs[1, 0].boxplot([heights[0], heights[1]])\n",
        "\n",
        "axs[1, 0].set_title('Score')\n",
        "axs[1, 0].set_xticklabels(labels)\n",
        "\n",
        "# mAP scores\n",
        "\n",
        "heights = [original_metrics_df['mAP'].mean()*100, 0]\n",
        "labels = ['Original', 'Semantic seg.']\n",
        "\n",
        "axs[1, 1].bar(indexes[0], heights[0])\n",
        "axs[1, 1].bar(indexes[1], heights[1])\n",
        "\n",
        "axs[1, 1].set_title('mAP')\n",
        "axs[1, 1].set_xticks(indexes)\n",
        "axs[1, 1].set_xticklabels(labels)\n",
        "\n",
        "for i, v in enumerate(labels):\n",
        "  axs[1, 1].text(-0.1 + i, 10, f'{round(heights[i], 2)}%', fontsize=18, color=(1,1,1,1))\n",
        "\n",
        "plt.show()"
      ],
      "execution_count": 25,
      "outputs": [
        {
          "output_type": "stream",
          "text": [
            "/usr/local/lib/python3.7/dist-packages/numpy/core/_asarray.py:83: VisibleDeprecationWarning: Creating an ndarray from ragged nested sequences (which is a list-or-tuple of lists-or-tuples-or ndarrays with different lengths or shapes) is deprecated. If you meant to do this, you must specify 'dtype=object' when creating the ndarray\n",
            "  return array(a, dtype, copy=False, order=order)\n"
          ],
          "name": "stderr"
        },
        {
          "output_type": "display_data",
          "data": {
            "image/png": "[encoded data removed]",
            "text/plain": [
              "<Figure size 1800x1080 with 4 Axes>"
            ]
          },
          "metadata": {
            "tags": [],
            "needs_background": "light"
          }
        }
      ]
    },
    {
      "cell_type": "code",
      "metadata": {
        "id": "Oj5z_iGbMARM"
      },
      "source": [
        ""
      ],
      "execution_count": null,
      "outputs": []
    }
  ]
}