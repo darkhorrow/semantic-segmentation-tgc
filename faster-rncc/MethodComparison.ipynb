{
  "nbformat": 4,
  "nbformat_minor": 0,
  "metadata": {
    "colab": {
      "name": "MethodComparison.ipynb",
      "provenance": [],
      "collapsed_sections": []
    },
    "kernelspec": {
      "name": "python3",
      "display_name": "Python 3"
    },
    "language_info": {
      "name": "python"
    }
  },
  "cells": [
    {
      "cell_type": "markdown",
      "metadata": {
        "id": "ZJlUxtE_0fka"
      },
      "source": [
        "# Method comparison\n",
        "\n",
        "Comparison between the detections in the original images and the processed by Deeplav3 + OpenCV post-processing"
      ]
    },
    {
      "cell_type": "markdown",
      "metadata": {
        "id": "Ytc5ljCl4mUz"
      },
      "source": [
        "## Path definitions"
      ]
    },
    {
      "cell_type": "code",
      "metadata": {
        "colab": {
          "base_uri": "https://localhost:8080/"
        },
        "id": "ZHIpOJaq0Igb",
        "outputId": "679f2cb8-e770-451e-dafc-87645fde8391"
      },
      "source": [
        "from google.colab import drive\n",
        "drive.mount('/content/drive')"
      ],
      "execution_count": 1,
      "outputs": [
        {
          "output_type": "stream",
          "text": [
            "Mounted at /content/drive\n"
          ],
          "name": "stdout"
        }
      ]
    },
    {
      "cell_type": "code",
      "metadata": {
        "id": "2AM9v7qJ00PE"
      },
      "source": [
        "ORIGINAL_RESULTS = \"/content/drive/MyDrive/TFM/comparison_files/original_predictions.csv\"\n",
        "CROP_RESULTS = \"/content/drive/MyDrive/TFM/comparison_files/crop90_predictions.csv\""
      ],
      "execution_count": 2,
      "outputs": []
    },
    {
      "cell_type": "markdown",
      "metadata": {
        "id": "tYd95vdfZB5c"
      },
      "source": [
        "## Read predictions\n"
      ]
    },
    {
      "cell_type": "code",
      "metadata": {
        "id": "K1p3nCj_e6dd"
      },
      "source": [
        "import pandas as pd\n",
        "import ntpath\n",
        "import os\n",
        "import matplotlib.pyplot as plt"
      ],
      "execution_count": 40,
      "outputs": []
    },
    {
      "cell_type": "code",
      "metadata": {
        "id": "NauQTvOBoNiU"
      },
      "source": [
        "original_df = pd.read_csv(ORIGINAL_RESULTS)\n",
        "crop_df = pd.read_csv(CROP_RESULTS)"
      ],
      "execution_count": 4,
      "outputs": []
    },
    {
      "cell_type": "code",
      "metadata": {
        "colab": {
          "base_uri": "https://localhost:8080/",
          "height": 300
        },
        "id": "jow12VdCfFj5",
        "outputId": "73da5ca9-7ea0-402d-eee4-c45673008238"
      },
      "source": [
        "original_df.describe()"
      ],
      "execution_count": 5,
      "outputs": [
        {
          "output_type": "execute_result",
          "data": {
            "text/html": [
              "<div>\n",
              "<style scoped>\n",
              "    .dataframe tbody tr th:only-of-type {\n",
              "        vertical-align: middle;\n",
              "    }\n",
              "\n",
              "    .dataframe tbody tr th {\n",
              "        vertical-align: top;\n",
              "    }\n",
              "\n",
              "    .dataframe thead th {\n",
              "        text-align: right;\n",
              "    }\n",
              "</style>\n",
              "<table border=\"1\" class=\"dataframe\">\n",
              "  <thead>\n",
              "    <tr style=\"text-align: right;\">\n",
              "      <th></th>\n",
              "      <th>Unnamed: 0</th>\n",
              "      <th>x_min</th>\n",
              "      <th>y_min</th>\n",
              "      <th>x_max</th>\n",
              "      <th>y_max</th>\n",
              "      <th>score</th>\n",
              "    </tr>\n",
              "  </thead>\n",
              "  <tbody>\n",
              "    <tr>\n",
              "      <th>count</th>\n",
              "      <td>5710.00000</td>\n",
              "      <td>5710.000000</td>\n",
              "      <td>5710.000000</td>\n",
              "      <td>5710.000000</td>\n",
              "      <td>5710.000000</td>\n",
              "      <td>5710.000000</td>\n",
              "    </tr>\n",
              "    <tr>\n",
              "      <th>mean</th>\n",
              "      <td>2854.50000</td>\n",
              "      <td>1054.063748</td>\n",
              "      <td>502.898774</td>\n",
              "      <td>1112.005604</td>\n",
              "      <td>550.593345</td>\n",
              "      <td>93.456567</td>\n",
              "    </tr>\n",
              "    <tr>\n",
              "      <th>std</th>\n",
              "      <td>1648.47935</td>\n",
              "      <td>371.604176</td>\n",
              "      <td>168.265796</td>\n",
              "      <td>372.436477</td>\n",
              "      <td>174.190461</td>\n",
              "      <td>8.183659</td>\n",
              "    </tr>\n",
              "    <tr>\n",
              "      <th>min</th>\n",
              "      <td>0.00000</td>\n",
              "      <td>-32.000000</td>\n",
              "      <td>0.000000</td>\n",
              "      <td>16.000000</td>\n",
              "      <td>16.000000</td>\n",
              "      <td>70.000000</td>\n",
              "    </tr>\n",
              "    <tr>\n",
              "      <th>25%</th>\n",
              "      <td>1427.25000</td>\n",
              "      <td>832.000000</td>\n",
              "      <td>400.000000</td>\n",
              "      <td>896.000000</td>\n",
              "      <td>448.000000</td>\n",
              "      <td>90.000000</td>\n",
              "    </tr>\n",
              "    <tr>\n",
              "      <th>50%</th>\n",
              "      <td>2854.50000</td>\n",
              "      <td>1088.000000</td>\n",
              "      <td>464.000000</td>\n",
              "      <td>1152.000000</td>\n",
              "      <td>528.000000</td>\n",
              "      <td>98.000000</td>\n",
              "    </tr>\n",
              "    <tr>\n",
              "      <th>75%</th>\n",
              "      <td>4281.75000</td>\n",
              "      <td>1280.000000</td>\n",
              "      <td>608.000000</td>\n",
              "      <td>1344.000000</td>\n",
              "      <td>640.000000</td>\n",
              "      <td>99.000000</td>\n",
              "    </tr>\n",
              "    <tr>\n",
              "      <th>max</th>\n",
              "      <td>5709.00000</td>\n",
              "      <td>1888.000000</td>\n",
              "      <td>1040.000000</td>\n",
              "      <td>1920.000000</td>\n",
              "      <td>1072.000000</td>\n",
              "      <td>99.000000</td>\n",
              "    </tr>\n",
              "  </tbody>\n",
              "</table>\n",
              "</div>"
            ],
            "text/plain": [
              "       Unnamed: 0        x_min  ...        y_max        score\n",
              "count  5710.00000  5710.000000  ...  5710.000000  5710.000000\n",
              "mean   2854.50000  1054.063748  ...   550.593345    93.456567\n",
              "std    1648.47935   371.604176  ...   174.190461     8.183659\n",
              "min       0.00000   -32.000000  ...    16.000000    70.000000\n",
              "25%    1427.25000   832.000000  ...   448.000000    90.000000\n",
              "50%    2854.50000  1088.000000  ...   528.000000    98.000000\n",
              "75%    4281.75000  1280.000000  ...   640.000000    99.000000\n",
              "max    5709.00000  1888.000000  ...  1072.000000    99.000000\n",
              "\n",
              "[8 rows x 6 columns]"
            ]
          },
          "metadata": {
            "tags": []
          },
          "execution_count": 5
        }
      ]
    },
    {
      "cell_type": "code",
      "metadata": {
        "colab": {
          "base_uri": "https://localhost:8080/",
          "height": 300
        },
        "id": "gW4u7VyyfHRZ",
        "outputId": "4eb6892a-f8d1-44a7-a585-2dcd8e72aed8"
      },
      "source": [
        "crop_df.describe()"
      ],
      "execution_count": 6,
      "outputs": [
        {
          "output_type": "execute_result",
          "data": {
            "text/html": [
              "<div>\n",
              "<style scoped>\n",
              "    .dataframe tbody tr th:only-of-type {\n",
              "        vertical-align: middle;\n",
              "    }\n",
              "\n",
              "    .dataframe tbody tr th {\n",
              "        vertical-align: top;\n",
              "    }\n",
              "\n",
              "    .dataframe thead th {\n",
              "        text-align: right;\n",
              "    }\n",
              "</style>\n",
              "<table border=\"1\" class=\"dataframe\">\n",
              "  <thead>\n",
              "    <tr style=\"text-align: right;\">\n",
              "      <th></th>\n",
              "      <th>Unnamed: 0</th>\n",
              "      <th>x_min</th>\n",
              "      <th>y_min</th>\n",
              "      <th>x_max</th>\n",
              "      <th>y_max</th>\n",
              "      <th>score</th>\n",
              "    </tr>\n",
              "  </thead>\n",
              "  <tbody>\n",
              "    <tr>\n",
              "      <th>count</th>\n",
              "      <td>2208.000000</td>\n",
              "      <td>2208.000000</td>\n",
              "      <td>2208.000000</td>\n",
              "      <td>2208.000000</td>\n",
              "      <td>2208.000000</td>\n",
              "      <td>2208.000000</td>\n",
              "    </tr>\n",
              "    <tr>\n",
              "      <th>mean</th>\n",
              "      <td>1103.500000</td>\n",
              "      <td>69.594203</td>\n",
              "      <td>204.108696</td>\n",
              "      <td>137.086957</td>\n",
              "      <td>259.543478</td>\n",
              "      <td>95.355525</td>\n",
              "    </tr>\n",
              "    <tr>\n",
              "      <th>std</th>\n",
              "      <td>637.539018</td>\n",
              "      <td>57.536893</td>\n",
              "      <td>127.698057</td>\n",
              "      <td>67.666442</td>\n",
              "      <td>135.397777</td>\n",
              "      <td>6.857865</td>\n",
              "    </tr>\n",
              "    <tr>\n",
              "      <th>min</th>\n",
              "      <td>0.000000</td>\n",
              "      <td>-16.000000</td>\n",
              "      <td>0.000000</td>\n",
              "      <td>16.000000</td>\n",
              "      <td>16.000000</td>\n",
              "      <td>70.000000</td>\n",
              "    </tr>\n",
              "    <tr>\n",
              "      <th>25%</th>\n",
              "      <td>551.750000</td>\n",
              "      <td>32.000000</td>\n",
              "      <td>128.000000</td>\n",
              "      <td>96.000000</td>\n",
              "      <td>176.000000</td>\n",
              "      <td>95.000000</td>\n",
              "    </tr>\n",
              "    <tr>\n",
              "      <th>50%</th>\n",
              "      <td>1103.500000</td>\n",
              "      <td>48.000000</td>\n",
              "      <td>176.000000</td>\n",
              "      <td>128.000000</td>\n",
              "      <td>224.000000</td>\n",
              "      <td>99.000000</td>\n",
              "    </tr>\n",
              "    <tr>\n",
              "      <th>75%</th>\n",
              "      <td>1655.250000</td>\n",
              "      <td>96.000000</td>\n",
              "      <td>240.000000</td>\n",
              "      <td>176.000000</td>\n",
              "      <td>304.000000</td>\n",
              "      <td>99.000000</td>\n",
              "    </tr>\n",
              "    <tr>\n",
              "      <th>max</th>\n",
              "      <td>2207.000000</td>\n",
              "      <td>416.000000</td>\n",
              "      <td>896.000000</td>\n",
              "      <td>448.000000</td>\n",
              "      <td>944.000000</td>\n",
              "      <td>99.000000</td>\n",
              "    </tr>\n",
              "  </tbody>\n",
              "</table>\n",
              "</div>"
            ],
            "text/plain": [
              "        Unnamed: 0        x_min  ...        y_max        score\n",
              "count  2208.000000  2208.000000  ...  2208.000000  2208.000000\n",
              "mean   1103.500000    69.594203  ...   259.543478    95.355525\n",
              "std     637.539018    57.536893  ...   135.397777     6.857865\n",
              "min       0.000000   -16.000000  ...    16.000000    70.000000\n",
              "25%     551.750000    32.000000  ...   176.000000    95.000000\n",
              "50%    1103.500000    48.000000  ...   224.000000    99.000000\n",
              "75%    1655.250000    96.000000  ...   304.000000    99.000000\n",
              "max    2207.000000   416.000000  ...   944.000000    99.000000\n",
              "\n",
              "[8 rows x 6 columns]"
            ]
          },
          "metadata": {
            "tags": []
          },
          "execution_count": 6
        }
      ]
    },
    {
      "cell_type": "markdown",
      "metadata": {
        "id": "7qxomJQzvVZf"
      },
      "source": [
        "## Perform further analysis"
      ]
    },
    {
      "cell_type": "code",
      "metadata": {
        "id": "20a-EPOtvdCq"
      },
      "source": [
        "def get_original(crop_name):\n",
        "  folder = f'{crop_name.split(\"_\")[1]}_{crop_name.split(\"_\")[2]}'\n",
        "  return original_df[original_df['name'] == folder]"
      ],
      "execution_count": 8,
      "outputs": []
    },
    {
      "cell_type": "code",
      "metadata": {
        "id": "oP0PybZbBbp_"
      },
      "source": [
        "def get_from_original(image_name):\n",
        "  return crop_df[crop_df['name'].str.endswith(image_name)]"
      ],
      "execution_count": 38,
      "outputs": []
    },
    {
      "cell_type": "code",
      "metadata": {
        "id": "DY1iXkbpmiID"
      },
      "source": [
        "original_df['name'] = original_df['name'].apply(lambda x: ntpath.basename(x))\n",
        "crop_df['name'] = crop_df['name'].apply(lambda x: ntpath.basename(x))"
      ],
      "execution_count": 9,
      "outputs": []
    },
    {
      "cell_type": "code",
      "metadata": {
        "id": "LgDg0JQZumXD"
      },
      "source": [
        "original_df.drop('Unnamed: 0', inplace=True, axis=1)"
      ],
      "execution_count": 10,
      "outputs": []
    },
    {
      "cell_type": "code",
      "metadata": {
        "id": "sSvkmeC6u1_u"
      },
      "source": [
        "crop_df.drop('Unnamed: 0', inplace=True, axis=1)"
      ],
      "execution_count": 11,
      "outputs": []
    },
    {
      "cell_type": "code",
      "metadata": {
        "colab": {
          "base_uri": "https://localhost:8080/",
          "height": 336
        },
        "id": "D0cuBLGnIOLN",
        "outputId": "a680d64d-aa08-4ac0-8eae-c763a2ee2680"
      },
      "source": [
        "fig, axs = plt.subplots(1, 2)\n",
        "fig.set_size_inches(25, 5)\n",
        "\n",
        "# Amount of images\n",
        "\n",
        "indexes = [0, 1]\n",
        "heights = [len(original_df.index), len(crop_df.index)]\n",
        "labels = ['Original', 'Semantic seg. used']\n",
        "\n",
        "axs[0].bar(indexes[0], heights[0])\n",
        "axs[0].bar(indexes[1], heights[1])\n",
        "\n",
        "axs[0].set_title('Result amount of images')\n",
        "axs[0].set_xticks(indexes)\n",
        "axs[0].set_xticklabels(labels)\n",
        "\n",
        "# Mean Score\n",
        "\n",
        "heights = [original_df['score'].mean(), crop_df['score'].mean()]\n",
        "labels = ['Original', 'Semantic seg. used']\n",
        "\n",
        "axs[1].bar(indexes[0], heights[0])\n",
        "axs[1].bar(indexes[1], heights[1])\n",
        "\n",
        "axs[1].set_title('Mean score')\n",
        "axs[1].set_xticks(indexes)\n",
        "axs[1].set_xticklabels(labels)\n",
        "\n",
        "plt.show()"
      ],
      "execution_count": 68,
      "outputs": [
        {
          "output_type": "display_data",
          "data": {
            "image/png": "[encoded data removed]",
            "text/plain": [
              "<Figure size 1800x360 with 2 Axes>"
            ]
          },
          "metadata": {
            "tags": [],
            "needs_background": "light"
          }
        }
      ]
    },
    {
      "cell_type": "code",
      "metadata": {
        "id": "Oj5z_iGbMARM"
      },
      "source": [
        ""
      ],
      "execution_count": null,
      "outputs": []
    }
  ]
}