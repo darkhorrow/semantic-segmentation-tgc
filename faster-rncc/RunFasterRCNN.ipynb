{
  "nbformat": 4,
  "nbformat_minor": 0,
  "metadata": {
    "colab": {
      "name": "RunFasterRCNN.ipynb",
      "provenance": [],
      "collapsed_sections": []
    },
    "kernelspec": {
      "name": "python3",
      "display_name": "Python 3"
    },
    "language_info": {
      "name": "python"
    }
  },
  "cells": [
    {
      "cell_type": "markdown",
      "metadata": {
        "id": "KCg4VvVF-uFn"
      },
      "source": [
        "# Run Faster RCNN"
      ]
    },
    {
      "cell_type": "markdown",
      "metadata": {
        "id": "xbrYryVB-2v7"
      },
      "source": [
        "## Path definitions"
      ]
    },
    {
      "cell_type": "code",
      "metadata": {
        "id": "CrMizg-pFgnT"
      },
      "source": [
        "from google.colab import drive\n",
        "drive.mount('/content/drive')"
      ],
      "execution_count": null,
      "outputs": []
    },
    {
      "cell_type": "code",
      "metadata": {
        "id": "n_3jVKCezYAC"
      },
      "source": [
        "RBND = \"/content/drive/MyDrive/TFM/rbnd/\"\n",
        "MODEL = \"/content/drive/MyDrive/TFM/ModeloTGCfull/\"\n",
        "CONFIG = \"/content/drive/MyDrive/TFM/ModeloTGCfull/model/model_vgg_config.pickle\"\n",
        "IMAGES = \"/content/drive/MyDrive/TFM/TGCRBNWv0.1UnifiedImgs/\"\n",
        "OUTPUT = \"/content/drive/MyDrive/TFM/FasterRCNNOriginalOut\""
      ],
      "execution_count": 3,
      "outputs": []
    },
    {
      "cell_type": "code",
      "metadata": {
        "id": "pt0VNaI7GzC0"
      },
      "source": [
        "%mkdir {OUTPUT}"
      ],
      "execution_count": 4,
      "outputs": []
    },
    {
      "cell_type": "code",
      "metadata": {
        "id": "M8T5xELeG6tD"
      },
      "source": [
        "%cd {RBND}"
      ],
      "execution_count": null,
      "outputs": []
    },
    {
      "cell_type": "code",
      "metadata": {
        "id": "w_pCj59WG-Uq"
      },
      "source": [
        "!python run.py -b {MODEL} -c {CONFIG} -i {IMAGES} -o {OUTPUT}"
      ],
      "execution_count": null,
      "outputs": []
    }
  ]
}