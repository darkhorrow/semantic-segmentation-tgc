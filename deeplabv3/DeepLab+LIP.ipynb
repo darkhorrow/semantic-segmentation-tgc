{
  "nbformat": 4,
  "nbformat_minor": 0,
  "metadata": {
    "colab": {
      "name": "DeepLab+LIP.ipynb",
      "provenance": [],
      "collapsed_sections": [],
      "toc_visible": true
    },
    "kernelspec": {
      "name": "python3",
      "display_name": "Python 3"
    },
    "accelerator": "TPU"
  },
  "cells": [
    {
      "cell_type": "markdown",
      "metadata": {
        "id": "d5bhjtWsOGEU"
      },
      "source": [
        "# Deeplabv3 + LIP"
      ]
    },
    {
      "cell_type": "markdown",
      "metadata": {
        "id": "nisjqD6ZlmuG"
      },
      "source": [
        "## Path definitions - change to your own"
      ]
    },
    {
      "cell_type": "code",
      "metadata": {
        "id": "BfHFNuxXlk1G"
      },
      "source": [
        "ROOT_PROJECT = \"/content/drive/MyDrive/TFM\"\n",
        "TRAIN_VAL_IMAGES = os.path.join(ROOT_PROJECT, 'lip_trainval_images')\n",
        "TRAIN_VAL_SEGMENTATIONS = os.path.join(ROOT_PROJECT, 'lip_trainval_segmentations')\n",
        "TRAIN_TFRECORD = os.path.join(ROOT_PROJECT, 'train_lip_tfrecord')\n",
        "VAL_TFRECORD = os.path.join(ROOT_PROJECT, 'val_lip_tfrecord')\n",
        "TRAIN_VAL_TFRECORD = os.path.join(ROOT_PROJECT, 'trainval_lip_tfrecord')\n",
        "CHECKPOINT = os.path.join(ROOT_PROJECT, 'checkpoint_lip_mobilenet')\n",
        "PRETRAINED_MODEL = os.path.join(ROOT_PROJECT, 'deeplabv3_mnv2_pascal_train_aug/model.ckpt-30000')\n",
        "EVAL_RESULTS = os.path.join(ROOT_PROJECT, 'eval_results_lip')\n",
        "VIS_RESULTS = os.path.join(ROOT_PROJECT, 'vis_results_lip')\n",
        "EXPORT = os.path.join(ROOT_PROJECT, 'exported_model')"
      ],
      "execution_count": null,
      "outputs": []
    },
    {
      "cell_type": "markdown",
      "metadata": {
        "id": "GLLPh3_Yl0Fl"
      },
      "source": [
        "## Setup Deeplabv3"
      ]
    },
    {
      "cell_type": "code",
      "metadata": {
        "id": "ySRcX9P61CxY"
      },
      "source": [
        "!pip install tensorflow-gpu==1.15.3\n",
        "!pip install tf_slim==1.0.0"
      ],
      "execution_count": null,
      "outputs": []
    },
    {
      "cell_type": "code",
      "metadata": {
        "id": "nIDpAbAl2d78"
      },
      "source": [
        "%env TF_CPP_MIN_LOG_LEVEL=3"
      ],
      "execution_count": null,
      "outputs": []
    },
    {
      "cell_type": "markdown",
      "metadata": {
        "id": "KfHYetdzuiKe"
      },
      "source": [
        "Here Google Drive storage is loaded. You can omit this cell if you are not using it."
      ]
    },
    {
      "cell_type": "code",
      "metadata": {
        "id": "bVp1uuC8F0f4"
      },
      "source": [
        "from google.colab import drive\n",
        "drive.mount('/content/drive')"
      ],
      "execution_count": null,
      "outputs": []
    },
    {
      "cell_type": "code",
      "metadata": {
        "id": "LhJxu73pF-wM"
      },
      "source": [
        "%cd {ROOT_PROJECT}"
      ],
      "execution_count": null,
      "outputs": []
    },
    {
      "cell_type": "code",
      "metadata": {
        "id": "gD1z3vED2Rz2"
      },
      "source": [
        "!git clone https://github.com/tensorflow/models"
      ],
      "execution_count": null,
      "outputs": []
    },
    {
      "cell_type": "code",
      "metadata": {
        "id": "IFKuwCK-21qr"
      },
      "source": [
        "%cd {ROOT_PROJECT}/models/research/"
      ],
      "execution_count": null,
      "outputs": []
    },
    {
      "cell_type": "code",
      "metadata": {
        "id": "rpn6pXo124Er"
      },
      "source": [
        "%env PYTHONPATH={ROOT_PROJECT}/models/research/:{ROOT_PROJECT}/models/research/deeplab:{ROOT_PROJECT}/models/research/slim:/env/python"
      ],
      "execution_count": null,
      "outputs": []
    },
    {
      "cell_type": "code",
      "metadata": {
        "id": "Rtjq5ghc0fyY"
      },
      "source": [
        "%cd {ROOT_PROJECT}"
      ],
      "execution_count": null,
      "outputs": []
    },
    {
      "cell_type": "markdown",
      "metadata": {
        "id": "qhaWByTCPFs-"
      },
      "source": [
        "## Using LIP"
      ]
    },
    {
      "cell_type": "markdown",
      "metadata": {
        "id": "g_fDp6BLxh_E"
      },
      "source": [
        "### Unzip the dataset"
      ]
    },
    {
      "cell_type": "code",
      "metadata": {
        "id": "WUydjH3IX8oG"
      },
      "source": [
        "!unzip {ROOT_PROJECT}/LIP/TrainVal_images.zip -d {TRAIN_VAL_IMAGES}"
      ],
      "execution_count": null,
      "outputs": []
    },
    {
      "cell_type": "code",
      "metadata": {
        "id": "-Tc6agE-ZJJE"
      },
      "source": [
        "!unzip -q {TRAIN_VAL_IMAGES}/TrainVal_images.zip -d {TRAIN_VAL_IMAGES}/TrainVal_images"
      ],
      "execution_count": null,
      "outputs": []
    },
    {
      "cell_type": "code",
      "metadata": {
        "id": "cPo7X-KwcMj_"
      },
      "source": [
        "!unzip {ROOT_PROJECT}/LIP/TrainVal_parsing_annotations.zip -d {TRAIN_VAL_SEGMENTATIONS}"
      ],
      "execution_count": null,
      "outputs": []
    },
    {
      "cell_type": "code",
      "metadata": {
        "id": "PJ8iMnsPcT7k"
      },
      "source": [
        "!unzip -q {TRAIN_VAL_SEGMENTATIONS}/TrainVal_parsing_annotations/TrainVal_parsing_annotations.zip -d {TRAIN_VAL_SEGMENTATIONS}/TrainVal_parsing_annotations/"
      ],
      "execution_count": null,
      "outputs": []
    },
    {
      "cell_type": "markdown",
      "metadata": {
        "id": "DHRQ2xc6xpXb"
      },
      "source": [
        "### Build tfrecord of the dataset"
      ]
    },
    {
      "cell_type": "code",
      "metadata": {
        "id": "kgwGYAzeHOiI"
      },
      "source": [
        "!mkdir {TRAIN_TFRECORD}\n",
        "!mkdir {VAL_TFRECORD}"
      ],
      "execution_count": null,
      "outputs": []
    },
    {
      "cell_type": "code",
      "metadata": {
        "id": "6lOFxtxCIYcq"
      },
      "source": [
        "!python models/research/deeplab/datasets/build_voc2012_data.py \\\n",
        "  --image_folder=\"{TRAIN_VAL_IMAGES}/TrainVal_images/train_images\" \\\n",
        "  --semantic_segmentation_folder=\"{TRAIN_VAL_SEGMENTATIONS}/TrainVal_parsing_annotations/train_segmentations\" \\\n",
        "  --list_folder=\"{TRAIN_VAL_IMAGES}\" \\\n",
        "  --image_format=\"jpg\" \\\n",
        "  --output_dir=\"{TRAIN_TFRECORD}\""
      ],
      "execution_count": null,
      "outputs": []
    },
    {
      "cell_type": "code",
      "metadata": {
        "id": "lbKKAe-ZQBFW"
      },
      "source": [
        "!python models/research/deeplab/datasets/build_voc2012_data.py \\\n",
        "  --image_folder=\"{TRAIN_VAL_IMAGES}/TrainVal_images/val_images\" \\\n",
        "  --semantic_segmentation_folder=\"{TRAIN_VAL_SEGMENTATIONS}/TrainVal_parsing_annotations/val_segmentations\" \\\n",
        "  --list_folder=\"{TRAIN_VAL_IMAGES}\" \\\n",
        "  --image_format=\"jpg\" \\\n",
        "  --output_dir=\"{VAL_TFRECORD}\""
      ],
      "execution_count": null,
      "outputs": []
    },
    {
      "cell_type": "markdown",
      "metadata": {
        "id": "5kHtC1vUz9xa"
      },
      "source": [
        "#### Move both tfrecord to a single directory and rename them"
      ]
    },
    {
      "cell_type": "markdown",
      "metadata": {
        "id": "wfp44EfsvAUy"
      },
      "source": [
        "For simplicity reasons, **rename** command is used. However, **os.rename** could be used instead"
      ]
    },
    {
      "cell_type": "code",
      "metadata": {
        "id": "QdQQBJ2H4a1z"
      },
      "source": [
        "%cd {TRAIN_TFRECORD}"
      ],
      "execution_count": null,
      "outputs": []
    },
    {
      "cell_type": "code",
      "metadata": {
        "id": "XBIIxYJ74dk3"
      },
      "source": [
        "!rename 's/_id//;' *"
      ],
      "execution_count": null,
      "outputs": []
    },
    {
      "cell_type": "code",
      "metadata": {
        "id": "oMvQtEFK1TDw"
      },
      "source": [
        "%cd {VAL_TFRECORD}"
      ],
      "execution_count": null,
      "outputs": []
    },
    {
      "cell_type": "code",
      "metadata": {
        "id": "0Df3-WhS0ESz"
      },
      "source": [
        "!rename 's/_id//;' *"
      ],
      "execution_count": null,
      "outputs": []
    },
    {
      "cell_type": "code",
      "metadata": {
        "id": "8O-Li81s3T6D"
      },
      "source": [
        "%mv {VAL_TFRECORD}/* {TRAIN_VAL_TFRECORD}\n",
        "%mv {TRAIN_TFRECORD}/* {TRAIN_VAL_TFRECORD}"
      ],
      "execution_count": null,
      "outputs": []
    },
    {
      "cell_type": "markdown",
      "metadata": {
        "id": "WrkgaK3eOn0Y"
      },
      "source": [
        "## Train with LIP\n",
        "Use the --dataset param with lip or cihp to change the training dataset"
      ]
    },
    {
      "cell_type": "code",
      "metadata": {
        "id": "-kwanfwFjhZ_"
      },
      "source": [
        "%mkdir {CHECKPOINT}"
      ],
      "execution_count": null,
      "outputs": []
    },
    {
      "cell_type": "code",
      "metadata": {
        "id": "-4MQgN9m7AKn"
      },
      "source": [
        "%cd {ROOT_PROJECT}/models/research/"
      ],
      "execution_count": null,
      "outputs": []
    },
    {
      "cell_type": "code",
      "metadata": {
        "id": "A3XXP7_Jsw0J"
      },
      "source": [
        "!python deeplab/model_test.py"
      ],
      "execution_count": null,
      "outputs": []
    },
    {
      "cell_type": "markdown",
      "metadata": {
        "id": "tf6HQbwt1SnA"
      },
      "source": [
        "Use the following parameter only if its the first time you run it: --tf_initial_checkpoint=\"{PRETRAINED_MODEL}\" \\"
      ]
    },
    {
      "cell_type": "code",
      "metadata": {
        "id": "sRJ5Qhm6fD3I"
      },
      "source": [
        "!python deeplab/train.py --logtostderr \\\n",
        "  --training_number_of_steps=60000 \\\n",
        "  --train_split=\"train\" \\\n",
        "  --model_variant=\"mobilenet_v2\" \\\n",
        "  --atrous_rates=6 \\\n",
        "  --atrous_rates=12 \\\n",
        "   --atrous_rates=18 \\\n",
        "   --output_stride=16 \\\n",
        "   --decoder_output_stride=4 \\\n",
        "   --train_batch_size=1 \\\n",
        "   --dataset=\"lip\" \\\n",
        "   --train_logdir=\"{CHECKPOINT}\" \\\n",
        "   --dataset_dir=\"{TRAIN_VAL_TFRECORD}\" \\\n",
        "   --fine_tune_batch_norm=false \\\n",
        "   --initialize_last_layer=false \\\n",
        "   --last_layers_contain_logits_only=false"
      ],
      "execution_count": null,
      "outputs": []
    },
    {
      "cell_type": "markdown",
      "metadata": {
        "id": "U3CZidwhhabn"
      },
      "source": [
        "## Evaluation"
      ]
    },
    {
      "cell_type": "code",
      "metadata": {
        "id": "UVh9oz0PiEGt"
      },
      "source": [
        "%mkdir {EVAL_RESULTS}"
      ],
      "execution_count": null,
      "outputs": []
    },
    {
      "cell_type": "code",
      "metadata": {
        "id": "spE-V5iAhk5A"
      },
      "source": [
        "!python deeplab/eval.py --logtostderr \\\n",
        "  --eval_split=\"val\" \\\n",
        "  --model_variant=\"mobilenet_v2\" \\\n",
        "  --eval_crop_size=\"1080,1080\" \\\n",
        "  --atrous_rates=6 \\\n",
        "  --atrous_rates=12 \\\n",
        "   --atrous_rates=18 \\\n",
        "   --output_stride=16 \\\n",
        "   --decoder_output_stride=4 \\\n",
        "   --dataset=\"lip\" \\\n",
        "   --checkpoint_dir=\"{CHECKPOINT}\" \\\n",
        "   --eval_logdir=\"{EVAL_RESULTS}\" \\\n",
        "   --dataset_dir=\"{TRAIN_VAL_TFRECORD}\" \\\n",
        "   --max_number_of_iterations=1 \\\n",
        "   --eval_interval_secs=0"
      ],
      "execution_count": null,
      "outputs": []
    },
    {
      "cell_type": "markdown",
      "metadata": {
        "id": "XMUAU0PyO-qI"
      },
      "source": [
        "## Visualization"
      ]
    },
    {
      "cell_type": "code",
      "metadata": {
        "id": "HdBl1l1qrBot"
      },
      "source": [
        "%mkdir {VIS_RESULTS}"
      ],
      "execution_count": null,
      "outputs": []
    },
    {
      "cell_type": "code",
      "metadata": {
        "id": "n5tRom91BBOP"
      },
      "source": [
        "!python deeplab/vis.py --logtostderr \\\n",
        "  --vis_split=\"val\" \\\n",
        "  --model_variant=\"mobilenet_v2\" \\\n",
        "  --vis_crop_size=\"1080,1080\" \\\n",
        "  --atrous_rates=6 \\\n",
        "  --atrous_rates=12 \\\n",
        "   --atrous_rates=18 \\\n",
        "   --output_stride=16 \\\n",
        "   --decoder_output_stride=4 \\\n",
        "   --dataset=\"lip\" \\\n",
        "   --checkpoint_dir=\"{CHECKPOINT}\" \\\n",
        "   --vis_logdir=\"{VIS_RESULTS}\" \\\n",
        "   --dataset_dir=\"{TRAIN_VAL_TFRECORD}\" \\\n",
        "   --max_number_of_iterations=1 \\\n",
        "   --eval_interval_secs=0"
      ],
      "execution_count": null,
      "outputs": []
    },
    {
      "cell_type": "markdown",
      "metadata": {
        "id": "iYv-chdk1c3E"
      },
      "source": [
        "## Export trained model"
      ]
    },
    {
      "cell_type": "code",
      "metadata": {
        "id": "GU4hl8PLikYK"
      },
      "source": [
        "%mkdir {EXPORT}"
      ],
      "execution_count": null,
      "outputs": []
    },
    {
      "cell_type": "code",
      "metadata": {
        "id": "AtmM54g5S7Cc"
      },
      "source": [
        "!python deeplab/export_model.py \\\n",
        "    --logtostderr \\\n",
        "    --checkpoint_path=\"{CHECKPOINT}/model.ckpt-60000\" \\\n",
        "    --export_path=\"{EXPORT}/frozen_inference_graph.pb\"  \\\n",
        "    --model_variant=\"mobilenet_v2\"  \\\n",
        "    --dataset=\"lip\" \\\n",
        "    --atrous_rates=6  \\\n",
        "    --atrous_rates=12  \\\n",
        "    --atrous_rates=18   \\\n",
        "    --output_stride=16  \\\n",
        "    --crop_size=1080 \\\n",
        "    --crop_size=1080 \\\n",
        "    --decoder_output_stride=4  \\\n",
        "    --num_classes=19 \\\n",
        "    --inference_scales=1.0"
      ],
      "execution_count": null,
      "outputs": []
    }
  ]
}