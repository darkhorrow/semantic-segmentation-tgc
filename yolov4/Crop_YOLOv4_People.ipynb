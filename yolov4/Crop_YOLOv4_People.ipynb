{
  "nbformat": 4,
  "nbformat_minor": 0,
  "metadata": {
    "colab": {
      "name": "Crop YOLOv4 People.ipynb",
      "provenance": [],
      "collapsed_sections": []
    },
    "kernelspec": {
      "name": "python3",
      "display_name": "Python 3"
    },
    "language_info": {
      "name": "python"
    }
  },
  "cells": [
    {
      "cell_type": "markdown",
      "metadata": {
        "id": "08yl3uI5EEOB"
      },
      "source": [
        "# Crop YOLOv4 people"
      ]
    },
    {
      "cell_type": "markdown",
      "metadata": {
        "id": "D5G6vfenEQQV"
      },
      "source": [
        "## Path definitions - change to your own"
      ]
    },
    {
      "cell_type": "code",
      "metadata": {
        "id": "veDTV59RARVJ"
      },
      "source": [
        "import pandas as pd\n",
        "import cv2\n",
        "import os"
      ],
      "execution_count": null,
      "outputs": []
    },
    {
      "cell_type": "code",
      "metadata": {
        "id": "tAU7dho2D30F"
      },
      "source": [
        "IMAGES_PATH = \"/content/drive/MyDrive/TFM/OriginalInput\"\n",
        "ANNOTATIONS = \"/content/drive/MyDrive/TFM/OriginalInput/annotateTest.csv\"\n",
        "YOLOV4_RESULTS_CSV = \"/content/drive/MyDrive/TFM/yolov4_results/transform_90.csv\"\n",
        "OUT_IMAGES = \"/content/drive/MyDrive/TFM/CropYoloResults90Final\"\n",
        "\n",
        "ANNOTATION_COLUMNS = [\"filename\", \"x_min\", \"y_min\", \"x_max\", \"y_max\", \"class\"]\n",
        "NEW_ANNOTATIONS = pd.DataFrame(columns=ANNOTATION_COLUMNS)\n",
        "\n",
        "MIN_AREA = (64, 64)"
      ],
      "execution_count": 33,
      "outputs": []
    },
    {
      "cell_type": "markdown",
      "metadata": {
        "id": "hj2u_i7MEvwe"
      },
      "source": [
        "Here Google Drive storage is loaded. You can omit this cell if you are not using it."
      ]
    },
    {
      "cell_type": "code",
      "metadata": {
        "id": "VC_4NICdEp_v"
      },
      "source": [
        "from google.colab import drive\n",
        "drive.mount('/content/drive')"
      ],
      "execution_count": null,
      "outputs": []
    },
    {
      "cell_type": "code",
      "metadata": {
        "id": "0fiZD4IXEqXi"
      },
      "source": [
        "%mkdir {OUT_IMAGES}"
      ],
      "execution_count": 34,
      "outputs": []
    },
    {
      "cell_type": "code",
      "metadata": {
        "colab": {
          "base_uri": "https://localhost:8080/",
          "height": 424
        },
        "id": "2vZFDsCwFhmt",
        "outputId": "11b8f824-3356-4bed-ad4d-9eeafd7287b2"
      },
      "source": [
        "df = pd.read_csv(YOLOV4_RESULTS_CSV)\n",
        "df"
      ],
      "execution_count": null,
      "outputs": [
        {
          "output_type": "execute_result",
          "data": {
            "text/html": [
              "<div>\n",
              "<style scoped>\n",
              "    .dataframe tbody tr th:only-of-type {\n",
              "        vertical-align: middle;\n",
              "    }\n",
              "\n",
              "    .dataframe tbody tr th {\n",
              "        vertical-align: top;\n",
              "    }\n",
              "\n",
              "    .dataframe thead th {\n",
              "        text-align: right;\n",
              "    }\n",
              "</style>\n",
              "<table border=\"1\" class=\"dataframe\">\n",
              "  <thead>\n",
              "    <tr style=\"text-align: right;\">\n",
              "      <th></th>\n",
              "      <th>filename</th>\n",
              "      <th>x</th>\n",
              "      <th>y</th>\n",
              "      <th>x2</th>\n",
              "      <th>y2</th>\n",
              "      <th>class</th>\n",
              "    </tr>\n",
              "  </thead>\n",
              "  <tbody>\n",
              "    <tr>\n",
              "      <th>0</th>\n",
              "      <td>/content/drive/MyDrive/TFM/OriginalInput/Ayaga...</td>\n",
              "      <td>618</td>\n",
              "      <td>87</td>\n",
              "      <td>828</td>\n",
              "      <td>694</td>\n",
              "      <td>person</td>\n",
              "    </tr>\n",
              "    <tr>\n",
              "      <th>1</th>\n",
              "      <td>/content/drive/MyDrive/TFM/OriginalInput/Ayaga...</td>\n",
              "      <td>1503</td>\n",
              "      <td>315</td>\n",
              "      <td>1581</td>\n",
              "      <td>444</td>\n",
              "      <td>person</td>\n",
              "    </tr>\n",
              "    <tr>\n",
              "      <th>2</th>\n",
              "      <td>/content/drive/MyDrive/TFM/OriginalInput/Ayaga...</td>\n",
              "      <td>1785</td>\n",
              "      <td>319</td>\n",
              "      <td>1909</td>\n",
              "      <td>507</td>\n",
              "      <td>person</td>\n",
              "    </tr>\n",
              "    <tr>\n",
              "      <th>3</th>\n",
              "      <td>/content/drive/MyDrive/TFM/OriginalInput/Ayaga...</td>\n",
              "      <td>1716</td>\n",
              "      <td>317</td>\n",
              "      <td>1828</td>\n",
              "      <td>484</td>\n",
              "      <td>person</td>\n",
              "    </tr>\n",
              "    <tr>\n",
              "      <th>4</th>\n",
              "      <td>/content/drive/MyDrive/TFM/OriginalInput/Ayaga...</td>\n",
              "      <td>1567</td>\n",
              "      <td>334</td>\n",
              "      <td>1648</td>\n",
              "      <td>449</td>\n",
              "      <td>person</td>\n",
              "    </tr>\n",
              "    <tr>\n",
              "      <th>...</th>\n",
              "      <td>...</td>\n",
              "      <td>...</td>\n",
              "      <td>...</td>\n",
              "      <td>...</td>\n",
              "      <td>...</td>\n",
              "      <td>...</td>\n",
              "    </tr>\n",
              "    <tr>\n",
              "      <th>1493</th>\n",
              "      <td>/content/drive/MyDrive/TFM/OriginalInput/Teror...</td>\n",
              "      <td>935</td>\n",
              "      <td>435</td>\n",
              "      <td>989</td>\n",
              "      <td>525</td>\n",
              "      <td>person</td>\n",
              "    </tr>\n",
              "    <tr>\n",
              "      <th>1494</th>\n",
              "      <td>/content/drive/MyDrive/TFM/OriginalInput/Teror...</td>\n",
              "      <td>1147</td>\n",
              "      <td>398</td>\n",
              "      <td>1336</td>\n",
              "      <td>950</td>\n",
              "      <td>person</td>\n",
              "    </tr>\n",
              "    <tr>\n",
              "      <th>1495</th>\n",
              "      <td>/content/drive/MyDrive/TFM/OriginalInput/Teror...</td>\n",
              "      <td>904</td>\n",
              "      <td>448</td>\n",
              "      <td>1006</td>\n",
              "      <td>533</td>\n",
              "      <td>person</td>\n",
              "    </tr>\n",
              "    <tr>\n",
              "      <th>1496</th>\n",
              "      <td>/content/drive/MyDrive/TFM/OriginalInput/Teror...</td>\n",
              "      <td>1758</td>\n",
              "      <td>462</td>\n",
              "      <td>1854</td>\n",
              "      <td>575</td>\n",
              "      <td>person</td>\n",
              "    </tr>\n",
              "    <tr>\n",
              "      <th>1497</th>\n",
              "      <td>/content/drive/MyDrive/TFM/OriginalInput/Teror...</td>\n",
              "      <td>990</td>\n",
              "      <td>377</td>\n",
              "      <td>1302</td>\n",
              "      <td>965</td>\n",
              "      <td>person</td>\n",
              "    </tr>\n",
              "  </tbody>\n",
              "</table>\n",
              "<p>1498 rows × 6 columns</p>\n",
              "</div>"
            ],
            "text/plain": [
              "                                               filename     x  ...   y2   class\n",
              "0     /content/drive/MyDrive/TFM/OriginalInput/Ayaga...   618  ...  694  person\n",
              "1     /content/drive/MyDrive/TFM/OriginalInput/Ayaga...  1503  ...  444  person\n",
              "2     /content/drive/MyDrive/TFM/OriginalInput/Ayaga...  1785  ...  507  person\n",
              "3     /content/drive/MyDrive/TFM/OriginalInput/Ayaga...  1716  ...  484  person\n",
              "4     /content/drive/MyDrive/TFM/OriginalInput/Ayaga...  1567  ...  449  person\n",
              "...                                                 ...   ...  ...  ...     ...\n",
              "1493  /content/drive/MyDrive/TFM/OriginalInput/Teror...   935  ...  525  person\n",
              "1494  /content/drive/MyDrive/TFM/OriginalInput/Teror...  1147  ...  950  person\n",
              "1495  /content/drive/MyDrive/TFM/OriginalInput/Teror...   904  ...  533  person\n",
              "1496  /content/drive/MyDrive/TFM/OriginalInput/Teror...  1758  ...  575  person\n",
              "1497  /content/drive/MyDrive/TFM/OriginalInput/Teror...   990  ...  965  person\n",
              "\n",
              "[1498 rows x 6 columns]"
            ]
          },
          "metadata": {
            "tags": []
          },
          "execution_count": 7
        }
      ]
    },
    {
      "cell_type": "code",
      "metadata": {
        "id": "kC2s_bDzAG7Z"
      },
      "source": [
        "def crop_image(index, object_detection, save_path, original_annotations=None, min_area=64*64):\n",
        "  global NEW_ANNOTATIONS\n",
        "\n",
        "  img = cv2.imread(object_detection['filename'])\n",
        "  height, width = img.shape[:2]\n",
        "\n",
        "  if width < min_area[1] or height < min_area[0]:\n",
        "    return False, None\n",
        "\n",
        "  crop_img = img[object_detection['y']:object_detection['y2'], object_detection['x']:object_detection['x2']]\n",
        "  name = f'{index}_{os.path.basename(object_detection[\"filename\"])}'\n",
        "  cv2.imwrite(os.path.join(save_path, name), crop_img)\n",
        "\n",
        "  if NEW_ANNOTATIONS is not None and original_annotations is not None:\n",
        "    df_ann = pd.read_csv(original_annotations, header=None)\n",
        "    df_ann.columns = [\"filename\", \"x_min\", \"y_min\", \"x_max\", \"y_max\", \"class\"]\n",
        "    df_ann = df_ann[df_ann['filename'].str.endswith(os.path.basename(object_detection['filename']))]\n",
        "\n",
        "    for index, row in df_ann.iterrows():\n",
        "      if row['x_min'] - object_detection['x'] >= 0 and row['y_min'] - object_detection['y'] >= 0 and object_detection['x2'] - row['x_max'] >= 0 and object_detection['y2'] - row['y_max'] >= 0:\n",
        "        NEW_ANNOTATIONS = NEW_ANNOTATIONS.append({\n",
        "            'filename': row['filename'],\n",
        "            'x_min': row['x_min'] - object_detection['x'],\n",
        "            'y_min': row['y_min'] - object_detection['y'],\n",
        "            'x_max': (object_detection['x2'] - object_detection['x']) - (object_detection['x2'] -  row['x_max']),\n",
        "            'y_max':(object_detection['y2'] - object_detection['y']) - (object_detection['y2'] -  row['y_max']),\n",
        "            'class': row['class']\n",
        "        }, ignore_index=True)\n",
        "        print(NEW_ANNOTATIONS.tail().iloc[:, 1:5])\n",
        "      else:\n",
        "        print('Not valid annotation placing')\n",
        "\n",
        "    return True, NEW_ANNOTATIONS\n",
        "  return False, None"
      ],
      "execution_count": 35,
      "outputs": []
    },
    {
      "cell_type": "code",
      "metadata": {
        "id": "pePAx9bLFmlk"
      },
      "source": [
        "for index, row in df.iterrows():\n",
        "  done, annotation = crop_image(index, row, OUT_IMAGES, ANNOTATIONS, MIN_AREA)\n",
        "  file_name = f'{index}_{os.path.basename(row[\"filename\"])}'\n",
        "\n",
        "  if done:\n",
        "    print(f'[{index}] {os.path.join(OUT_IMAGES, file_name)}')\n",
        "    NEW_ANNOTATIONS = annotation\n",
        "  else:\n",
        "    print(f'[{index}] {row[\"filename\"]} ignored because has less area than {MIN_AREA}px')\n",
        "\n",
        "if NEW_ANNOTATIONS is not None:\n",
        "  NEW_ANNOTATIONS.to_csv(os.path.join(OUT_IMAGES, 'annotateTest.csv'), header=None, index=False)"
      ],
      "execution_count": null,
      "outputs": []
    },
    {
      "cell_type": "code",
      "metadata": {
        "id": "cR2HZvayUKJ9"
      },
      "source": [
        ""
      ],
      "execution_count": null,
      "outputs": []
    }
  ]
}