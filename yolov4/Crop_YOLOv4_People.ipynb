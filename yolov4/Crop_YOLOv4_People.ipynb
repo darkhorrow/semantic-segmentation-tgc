{
  "nbformat": 4,
  "nbformat_minor": 0,
  "metadata": {
    "colab": {
      "name": "Crop YOLOv4 People.ipynb",
      "provenance": [],
      "collapsed_sections": []
    },
    "kernelspec": {
      "name": "python3",
      "display_name": "Python 3"
    },
    "language_info": {
      "name": "python"
    }
  },
  "cells": [
    {
      "cell_type": "markdown",
      "metadata": {
        "id": "08yl3uI5EEOB"
      },
      "source": [
        "# Crop YOLOv4 people"
      ]
    },
    {
      "cell_type": "markdown",
      "metadata": {
        "id": "D5G6vfenEQQV"
      },
      "source": [
        "## Path definitions - change to your own"
      ]
    },
    {
      "cell_type": "code",
      "metadata": {
        "id": "tAU7dho2D30F"
      },
      "source": [
        "IMAGES_PATH = \"/content/drive/MyDrive/TFM/TGCRBNWv0.1UnifiedImgs/\"\n",
        "YOLOV4_RESULTS_CSV = \"/content/drive/MyDrive/TFM/yolov4_results/transform.csv\"\n",
        "OUT_IMAGES = \"/content/drive/MyDrive/TFM/yolov4_crop\""
      ],
      "execution_count": 4,
      "outputs": []
    },
    {
      "cell_type": "markdown",
      "metadata": {
        "id": "hj2u_i7MEvwe"
      },
      "source": [
        "Here Google Drive storage is loaded. You can omit this cell if you are not using it."
      ]
    },
    {
      "cell_type": "code",
      "metadata": {
        "colab": {
          "base_uri": "https://localhost:8080/"
        },
        "id": "VC_4NICdEp_v",
        "outputId": "4aef4fea-fbe6-4d69-cf98-7b979ff0f4c7"
      },
      "source": [
        "from google.colab import drive\n",
        "drive.mount('/content/drive')"
      ],
      "execution_count": 1,
      "outputs": [
        {
          "output_type": "stream",
          "text": [
            "Mounted at /content/drive\n"
          ],
          "name": "stdout"
        }
      ]
    },
    {
      "cell_type": "code",
      "metadata": {
        "id": "0fiZD4IXEqXi"
      },
      "source": [
        "%mkdir {OUT_IMAGES}"
      ],
      "execution_count": 5,
      "outputs": []
    },
    {
      "cell_type": "code",
      "metadata": {
        "id": "tcsuPzp6FeuV"
      },
      "source": [
        "import pandas as pd"
      ],
      "execution_count": 6,
      "outputs": []
    },
    {
      "cell_type": "code",
      "metadata": {
        "colab": {
          "base_uri": "https://localhost:8080/",
          "height": 424
        },
        "id": "2vZFDsCwFhmt",
        "outputId": "c7986c03-eeeb-4dd6-a3c3-92522399579e"
      },
      "source": [
        "df = pd.read_csv(YOLOV4_RESULTS_CSV)\n",
        "df"
      ],
      "execution_count": 11,
      "outputs": [
        {
          "output_type": "execute_result",
          "data": {
            "text/html": [
              "<div>\n",
              "<style scoped>\n",
              "    .dataframe tbody tr th:only-of-type {\n",
              "        vertical-align: middle;\n",
              "    }\n",
              "\n",
              "    .dataframe tbody tr th {\n",
              "        vertical-align: top;\n",
              "    }\n",
              "\n",
              "    .dataframe thead th {\n",
              "        text-align: right;\n",
              "    }\n",
              "</style>\n",
              "<table border=\"1\" class=\"dataframe\">\n",
              "  <thead>\n",
              "    <tr style=\"text-align: right;\">\n",
              "      <th></th>\n",
              "      <th>Unnamed: 0</th>\n",
              "      <th>filename</th>\n",
              "      <th>x</th>\n",
              "      <th>y</th>\n",
              "      <th>x2</th>\n",
              "      <th>y2</th>\n",
              "      <th>class</th>\n",
              "    </tr>\n",
              "  </thead>\n",
              "  <tbody>\n",
              "    <tr>\n",
              "      <th>0</th>\n",
              "      <td>0</td>\n",
              "      <td>/content/drive/MyDrive/TFM/TGCRBNWv0.1UnifiedI...</td>\n",
              "      <td>112.0</td>\n",
              "      <td>50.0</td>\n",
              "      <td>332.0</td>\n",
              "      <td>925.0</td>\n",
              "      <td>person</td>\n",
              "    </tr>\n",
              "    <tr>\n",
              "      <th>1</th>\n",
              "      <td>1</td>\n",
              "      <td>/content/drive/MyDrive/TFM/TGCRBNWv0.1UnifiedI...</td>\n",
              "      <td>745.0</td>\n",
              "      <td>248.0</td>\n",
              "      <td>854.0</td>\n",
              "      <td>626.0</td>\n",
              "      <td>person</td>\n",
              "    </tr>\n",
              "    <tr>\n",
              "      <th>2</th>\n",
              "      <td>2</td>\n",
              "      <td>/content/drive/MyDrive/TFM/TGCRBNWv0.1UnifiedI...</td>\n",
              "      <td>752.0</td>\n",
              "      <td>240.0</td>\n",
              "      <td>893.0</td>\n",
              "      <td>628.0</td>\n",
              "      <td>person</td>\n",
              "    </tr>\n",
              "    <tr>\n",
              "      <th>3</th>\n",
              "      <td>3</td>\n",
              "      <td>/content/drive/MyDrive/TFM/TGCRBNWv0.1UnifiedI...</td>\n",
              "      <td>1549.0</td>\n",
              "      <td>159.0</td>\n",
              "      <td>1828.0</td>\n",
              "      <td>911.0</td>\n",
              "      <td>person</td>\n",
              "    </tr>\n",
              "    <tr>\n",
              "      <th>4</th>\n",
              "      <td>4</td>\n",
              "      <td>/content/drive/MyDrive/TFM/TGCRBNWv0.1UnifiedI...</td>\n",
              "      <td>1498.0</td>\n",
              "      <td>181.0</td>\n",
              "      <td>1652.0</td>\n",
              "      <td>795.0</td>\n",
              "      <td>person</td>\n",
              "    </tr>\n",
              "    <tr>\n",
              "      <th>...</th>\n",
              "      <td>...</td>\n",
              "      <td>...</td>\n",
              "      <td>...</td>\n",
              "      <td>...</td>\n",
              "      <td>...</td>\n",
              "      <td>...</td>\n",
              "      <td>...</td>\n",
              "    </tr>\n",
              "    <tr>\n",
              "      <th>2525</th>\n",
              "      <td>2525</td>\n",
              "      <td>/content/drive/MyDrive/TFM/TGCRBNWv0.1UnifiedI...</td>\n",
              "      <td>1215.0</td>\n",
              "      <td>328.0</td>\n",
              "      <td>1427.0</td>\n",
              "      <td>884.0</td>\n",
              "      <td>person</td>\n",
              "    </tr>\n",
              "    <tr>\n",
              "      <th>2526</th>\n",
              "      <td>2526</td>\n",
              "      <td>/content/drive/MyDrive/TFM/TGCRBNWv0.1UnifiedI...</td>\n",
              "      <td>431.0</td>\n",
              "      <td>365.0</td>\n",
              "      <td>500.0</td>\n",
              "      <td>557.0</td>\n",
              "      <td>person</td>\n",
              "    </tr>\n",
              "    <tr>\n",
              "      <th>2527</th>\n",
              "      <td>2527</td>\n",
              "      <td>/content/drive/MyDrive/TFM/TGCRBNWv0.1UnifiedI...</td>\n",
              "      <td>1316.0</td>\n",
              "      <td>346.0</td>\n",
              "      <td>1641.0</td>\n",
              "      <td>1077.0</td>\n",
              "      <td>person</td>\n",
              "    </tr>\n",
              "    <tr>\n",
              "      <th>2528</th>\n",
              "      <td>2528</td>\n",
              "      <td>/content/drive/MyDrive/TFM/TGCRBNWv0.1UnifiedI...</td>\n",
              "      <td>1303.0</td>\n",
              "      <td>337.0</td>\n",
              "      <td>1595.0</td>\n",
              "      <td>1039.0</td>\n",
              "      <td>person</td>\n",
              "    </tr>\n",
              "    <tr>\n",
              "      <th>2529</th>\n",
              "      <td>2529</td>\n",
              "      <td>/content/drive/MyDrive/TFM/TGCRBNWv0.1UnifiedI...</td>\n",
              "      <td>513.0</td>\n",
              "      <td>362.0</td>\n",
              "      <td>593.0</td>\n",
              "      <td>599.0</td>\n",
              "      <td>person</td>\n",
              "    </tr>\n",
              "  </tbody>\n",
              "</table>\n",
              "<p>2530 rows × 7 columns</p>\n",
              "</div>"
            ],
            "text/plain": [
              "      Unnamed: 0  ...   class\n",
              "0              0  ...  person\n",
              "1              1  ...  person\n",
              "2              2  ...  person\n",
              "3              3  ...  person\n",
              "4              4  ...  person\n",
              "...          ...  ...     ...\n",
              "2525        2525  ...  person\n",
              "2526        2526  ...  person\n",
              "2527        2527  ...  person\n",
              "2528        2528  ...  person\n",
              "2529        2529  ...  person\n",
              "\n",
              "[2530 rows x 7 columns]"
            ]
          },
          "metadata": {
            "tags": []
          },
          "execution_count": 11
        }
      ]
    },
    {
      "cell_type": "code",
      "metadata": {
        "id": "pePAx9bLFmlk"
      },
      "source": [
        ""
      ],
      "execution_count": null,
      "outputs": []
    }
  ]
}