{
  "nbformat": 4,
  "nbformat_minor": 0,
  "metadata": {
    "colab": {
      "name": "Crop YOLOv4 People.ipynb",
      "provenance": [],
      "collapsed_sections": []
    },
    "kernelspec": {
      "name": "python3",
      "display_name": "Python 3"
    },
    "language_info": {
      "name": "python"
    }
  },
  "cells": [
    {
      "cell_type": "markdown",
      "metadata": {
        "id": "08yl3uI5EEOB"
      },
      "source": [
        "# Crop YOLOv4 people"
      ]
    },
    {
      "cell_type": "markdown",
      "metadata": {
        "id": "D5G6vfenEQQV"
      },
      "source": [
        "## Path definitions - change to your own"
      ]
    },
    {
      "cell_type": "code",
      "metadata": {
        "id": "tAU7dho2D30F"
      },
      "source": [
        "IMAGES_PATH = \"/content/drive/MyDrive/TFM/TGCRBNWv0.1UnifiedImgs/\"\n",
        "YOLOV4_RESULTS_CSV = \"/content/drive/MyDrive/TFM/yolov4_results/transform_90.csv\"\n",
        "OUT_IMAGES = \"/content/drive/MyDrive/TFM/yolov4_crop_90\""
      ],
      "execution_count": 5,
      "outputs": []
    },
    {
      "cell_type": "markdown",
      "metadata": {
        "id": "hj2u_i7MEvwe"
      },
      "source": [
        "Here Google Drive storage is loaded. You can omit this cell if you are not using it."
      ]
    },
    {
      "cell_type": "code",
      "metadata": {
        "id": "VC_4NICdEp_v"
      },
      "source": [
        "from google.colab import drive\n",
        "drive.mount('/content/drive')"
      ],
      "execution_count": null,
      "outputs": []
    },
    {
      "cell_type": "code",
      "metadata": {
        "id": "0fiZD4IXEqXi"
      },
      "source": [
        "%mkdir {OUT_IMAGES}"
      ],
      "execution_count": 6,
      "outputs": []
    },
    {
      "cell_type": "code",
      "metadata": {
        "id": "tcsuPzp6FeuV"
      },
      "source": [
        "import pandas as pd\n",
        "import cv2\n",
        "import os"
      ],
      "execution_count": 7,
      "outputs": []
    },
    {
      "cell_type": "code",
      "metadata": {
        "colab": {
          "base_uri": "https://localhost:8080/",
          "height": 424
        },
        "id": "2vZFDsCwFhmt",
        "outputId": "701dffdb-6a57-4c49-ad22-faf79f0a9ab0"
      },
      "source": [
        "df = pd.read_csv(YOLOV4_RESULTS_CSV)\n",
        "df"
      ],
      "execution_count": 8,
      "outputs": [
        {
          "output_type": "execute_result",
          "data": {
            "text/html": [
              "<div>\n",
              "<style scoped>\n",
              "    .dataframe tbody tr th:only-of-type {\n",
              "        vertical-align: middle;\n",
              "    }\n",
              "\n",
              "    .dataframe tbody tr th {\n",
              "        vertical-align: top;\n",
              "    }\n",
              "\n",
              "    .dataframe thead th {\n",
              "        text-align: right;\n",
              "    }\n",
              "</style>\n",
              "<table border=\"1\" class=\"dataframe\">\n",
              "  <thead>\n",
              "    <tr style=\"text-align: right;\">\n",
              "      <th></th>\n",
              "      <th>filename</th>\n",
              "      <th>x</th>\n",
              "      <th>y</th>\n",
              "      <th>x2</th>\n",
              "      <th>y2</th>\n",
              "      <th>class</th>\n",
              "    </tr>\n",
              "  </thead>\n",
              "  <tbody>\n",
              "    <tr>\n",
              "      <th>0</th>\n",
              "      <td>/content/drive/MyDrive/TFM/TGCRBNWv0.1UnifiedI...</td>\n",
              "      <td>375</td>\n",
              "      <td>0</td>\n",
              "      <td>775</td>\n",
              "      <td>1079</td>\n",
              "      <td>person</td>\n",
              "    </tr>\n",
              "    <tr>\n",
              "      <th>1</th>\n",
              "      <td>/content/drive/MyDrive/TFM/TGCRBNWv0.1UnifiedI...</td>\n",
              "      <td>1374</td>\n",
              "      <td>189</td>\n",
              "      <td>1689</td>\n",
              "      <td>882</td>\n",
              "      <td>person</td>\n",
              "    </tr>\n",
              "    <tr>\n",
              "      <th>2</th>\n",
              "      <td>/content/drive/MyDrive/TFM/TGCRBNWv0.1UnifiedI...</td>\n",
              "      <td>865</td>\n",
              "      <td>178</td>\n",
              "      <td>1091</td>\n",
              "      <td>865</td>\n",
              "      <td>person</td>\n",
              "    </tr>\n",
              "    <tr>\n",
              "      <th>3</th>\n",
              "      <td>/content/drive/MyDrive/TFM/TGCRBNWv0.1UnifiedI...</td>\n",
              "      <td>1573</td>\n",
              "      <td>173</td>\n",
              "      <td>1792</td>\n",
              "      <td>883</td>\n",
              "      <td>person</td>\n",
              "    </tr>\n",
              "    <tr>\n",
              "      <th>4</th>\n",
              "      <td>/content/drive/MyDrive/TFM/TGCRBNWv0.1UnifiedI...</td>\n",
              "      <td>385</td>\n",
              "      <td>0</td>\n",
              "      <td>774</td>\n",
              "      <td>1079</td>\n",
              "      <td>person</td>\n",
              "    </tr>\n",
              "    <tr>\n",
              "      <th>...</th>\n",
              "      <td>...</td>\n",
              "      <td>...</td>\n",
              "      <td>...</td>\n",
              "      <td>...</td>\n",
              "      <td>...</td>\n",
              "      <td>...</td>\n",
              "    </tr>\n",
              "    <tr>\n",
              "      <th>7597</th>\n",
              "      <td>/content/drive/MyDrive/TFM/TGCRBNWv0.1UnifiedI...</td>\n",
              "      <td>431</td>\n",
              "      <td>365</td>\n",
              "      <td>500</td>\n",
              "      <td>557</td>\n",
              "      <td>person</td>\n",
              "    </tr>\n",
              "    <tr>\n",
              "      <th>7598</th>\n",
              "      <td>/content/drive/MyDrive/TFM/TGCRBNWv0.1UnifiedI...</td>\n",
              "      <td>1316</td>\n",
              "      <td>346</td>\n",
              "      <td>1641</td>\n",
              "      <td>1077</td>\n",
              "      <td>person</td>\n",
              "    </tr>\n",
              "    <tr>\n",
              "      <th>7599</th>\n",
              "      <td>/content/drive/MyDrive/TFM/TGCRBNWv0.1UnifiedI...</td>\n",
              "      <td>1001</td>\n",
              "      <td>364</td>\n",
              "      <td>1149</td>\n",
              "      <td>788</td>\n",
              "      <td>person</td>\n",
              "    </tr>\n",
              "    <tr>\n",
              "      <th>7600</th>\n",
              "      <td>/content/drive/MyDrive/TFM/TGCRBNWv0.1UnifiedI...</td>\n",
              "      <td>1303</td>\n",
              "      <td>337</td>\n",
              "      <td>1595</td>\n",
              "      <td>1039</td>\n",
              "      <td>person</td>\n",
              "    </tr>\n",
              "    <tr>\n",
              "      <th>7601</th>\n",
              "      <td>/content/drive/MyDrive/TFM/TGCRBNWv0.1UnifiedI...</td>\n",
              "      <td>513</td>\n",
              "      <td>362</td>\n",
              "      <td>593</td>\n",
              "      <td>599</td>\n",
              "      <td>person</td>\n",
              "    </tr>\n",
              "  </tbody>\n",
              "</table>\n",
              "<p>7602 rows × 6 columns</p>\n",
              "</div>"
            ],
            "text/plain": [
              "                                               filename     x  ...    y2   class\n",
              "0     /content/drive/MyDrive/TFM/TGCRBNWv0.1UnifiedI...   375  ...  1079  person\n",
              "1     /content/drive/MyDrive/TFM/TGCRBNWv0.1UnifiedI...  1374  ...   882  person\n",
              "2     /content/drive/MyDrive/TFM/TGCRBNWv0.1UnifiedI...   865  ...   865  person\n",
              "3     /content/drive/MyDrive/TFM/TGCRBNWv0.1UnifiedI...  1573  ...   883  person\n",
              "4     /content/drive/MyDrive/TFM/TGCRBNWv0.1UnifiedI...   385  ...  1079  person\n",
              "...                                                 ...   ...  ...   ...     ...\n",
              "7597  /content/drive/MyDrive/TFM/TGCRBNWv0.1UnifiedI...   431  ...   557  person\n",
              "7598  /content/drive/MyDrive/TFM/TGCRBNWv0.1UnifiedI...  1316  ...  1077  person\n",
              "7599  /content/drive/MyDrive/TFM/TGCRBNWv0.1UnifiedI...  1001  ...   788  person\n",
              "7600  /content/drive/MyDrive/TFM/TGCRBNWv0.1UnifiedI...  1303  ...  1039  person\n",
              "7601  /content/drive/MyDrive/TFM/TGCRBNWv0.1UnifiedI...   513  ...   599  person\n",
              "\n",
              "[7602 rows x 6 columns]"
            ]
          },
          "metadata": {
            "tags": []
          },
          "execution_count": 8
        }
      ]
    },
    {
      "cell_type": "code",
      "metadata": {
        "id": "kC2s_bDzAG7Z"
      },
      "source": [
        "def crop_image(index, object_detection, save_path):\n",
        "  img = cv2.imread(object_detection['filename'])\n",
        "  crop_img = img[object_detection['y']:object_detection['y2'], object_detection['x']:object_detection['x2']]\n",
        "  name = f'{index}_{os.path.basename(object_detection[\"filename\"])}'\n",
        "  cv2.imwrite(os.path.join(save_path, name), crop_img)"
      ],
      "execution_count": 17,
      "outputs": []
    },
    {
      "cell_type": "code",
      "metadata": {
        "id": "pePAx9bLFmlk"
      },
      "source": [
        "for index, row in df.iterrows():\n",
        "  dir_name = os.path.join(OUT_IMAGES, os.path.basename(row[\"filename\"]).split('.jpg')[0])\n",
        "\n",
        "  try:\n",
        "    os.mkdir(dir_name)\n",
        "    print(f'[+] Directory {dir_name} created') \n",
        "  except FileExistsError:\n",
        "    pass\n",
        "\n",
        "  crop_image(index, row, dir_name)\n",
        "\n",
        "  print(f'[{index}] {os.path.join(dir_name, os.path.basename(row[\"filename\"]))}')"
      ],
      "execution_count": null,
      "outputs": []
    }
  ]
}